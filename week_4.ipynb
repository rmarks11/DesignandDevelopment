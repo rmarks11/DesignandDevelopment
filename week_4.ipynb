{
 "cells": [
  {
   "cell_type": "code",
   "execution_count": 1,
   "metadata": {},
   "outputs": [
    {
     "name": "stdout",
     "output_type": "stream",
     "text": [
      "A functional hello.\n"
     ]
    }
   ],
   "source": [
    "#Define function, paranthese have info in them \n",
    "\n",
    "def hello():\n",
    "    print(\"A functional hello.\")\n",
    "\n",
    "hello()"
   ]
  },
  {
   "cell_type": "code",
   "execution_count": 6,
   "metadata": {},
   "outputs": [
    {
     "name": "stdout",
     "output_type": "stream",
     "text": [
      "Hello Rachel!\n",
      "Hello Anyone!\n"
     ]
    }
   ],
   "source": [
    "#greet takes a parameter, called name \n",
    "\n",
    "def greet(name):\n",
    "    print(\"Hello \" + name + \"!\")\n",
    "\n",
    "greet(\"Rachel\")\n",
    "greet(\"Anyone\")"
   ]
  },
  {
   "cell_type": "code",
   "execution_count": 4,
   "metadata": {},
   "outputs": [
    {
     "name": "stdout",
     "output_type": "stream",
     "text": [
      "Hello You!\n",
      "Hello Lois!\n"
     ]
    }
   ],
   "source": [
    "#assign default name/value, if we don't have the info we need\n",
    "\n",
    "def greet_default(name = \"You\"):\n",
    "    print(\"Hello \" + name + \"!\")\n",
    "greet_default()\n",
    "greet_default(\"Lois\")"
   ]
  },
  {
   "cell_type": "code",
   "execution_count": 8,
   "metadata": {},
   "outputs": [
    {
     "name": "stdout",
     "output_type": "stream",
     "text": [
      "Hello Rachel Marks!\n"
     ]
    }
   ],
   "source": [
    "def make_greeting(firstName, lastName):\n",
    "    return(\"Hello \" + firstName + \" \" + lastName + \"!\")\n",
    "print(make_greeting(\"Rachel\", \"Marks\"))"
   ]
  },
  {
   "cell_type": "code",
   "execution_count": 9,
   "metadata": {},
   "outputs": [
    {
     "name": "stdout",
     "output_type": "stream",
     "text": [
      "Hi Fred!\n",
      "Hi Barney!\n"
     ]
    }
   ],
   "source": [
    "#global = variables defined at top level, and we can continously redfined them \n",
    "#local variables are brought in inside a function, only needs to exist inside that function \n",
    "#local values will supersede global values, if its inside the function \n",
    "#naming things is important \n",
    "\n",
    "def local_greeting():\n",
    "    name = \"Fred\"\n",
    "    print(\"Hi \" + name + \"!\")\n",
    "name = \"Barney\"\n",
    "local_greeting()\n",
    "print(\"Hi \" + name + \"!\")"
   ]
  },
  {
   "cell_type": "code",
   "execution_count": null,
   "metadata": {},
   "outputs": [],
   "source": []
  }
 ],
 "metadata": {
  "kernelspec": {
   "display_name": "Python 3.8.8 64-bit ('base': conda)",
   "name": "python388jvsc74a57bd081406bfb4a0df296520439dbeeb6cb234f05909e99c5846f7ab3626eb610afcd"
  },
  "language_info": {
   "codemirror_mode": {
    "name": "ipython",
    "version": 3
   },
   "file_extension": ".py",
   "mimetype": "text/x-python",
   "name": "python",
   "nbconvert_exporter": "python",
   "pygments_lexer": "ipython3",
   "version": "3.8.8"
  },
  "orig_nbformat": 2
 },
 "nbformat": 4,
 "nbformat_minor": 2
}