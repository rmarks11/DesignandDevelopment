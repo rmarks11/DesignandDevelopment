{
 "cells": [
  {
   "cell_type": "code",
   "execution_count": 1,
   "metadata": {},
   "outputs": [
    {
     "name": "stdout",
     "output_type": "stream",
     "text": [
      "b'<!DOCTYPE html>\\r\\n<html lang=\"en-US\">\\r\\n    <head prefix=\"og: http://ogp.me/ns# flixstertomatoes: http://ogp.me/ns/apps/flixstertomatoes#\">\\n\\n    <meta name=\"CloudFront-Viewer-Country\" content=\"US\" />\\n    <meta http-equiv=\"content-type\" content=\"text/html; charset=UTF-8\" />\\n        <meta property=\\'og.description\\' content=\"Critics say the film\\'s grounded themes, peerless action, and particularly fantastic villain &ndash; thank you, Tony Leung &ndash; make it a stellar introduction to a new hero.\" />'\n"
     ]
    }
   ],
   "source": [
    "# Start by setting up your content import. You can use the same target content as you used for exercise two, or set up something new.\n",
    "# Read in and store the content from a single URL.\n",
    "\n",
    "import urllib.request, urllib.error, urllib.parse\n",
    "\n",
    "url = 'https://editorial.rottentomatoes.com/article/shang-chi-first-reviews-one-of-the-mcus-most-spectacular-origin-stories/'\n",
    "\n",
    "response = urllib.request.urlopen(url)\n",
    "HTML = response.read()\n",
    "\n",
    "print(HTML[0: 500])"
   ]
  },
  {
   "cell_type": "code",
   "execution_count": 2,
   "metadata": {},
   "outputs": [
    {
     "name": "stdout",
     "output_type": "stream",
     "text": [
      "39150\n",
      "74883\n",
      "<h1><em>Shang-Chi</em> First Reviews: One of the MCU\\'s Most Spectacular Origin Stories</h1>\\r\\n                        <h2 class=\"subtext\">Critics say the film\\'s grounded themes, peerless action, and particularly fantastic villain \\xe2\\x80\\x93 thank you, Tony Leung \\xe2\\x80\\x93 make it a stellar introduction to a new hero.</h2>\\r\\n                        <div class=\"small subtle\">by <a href=\"https://editorial.rottentomatoes.com/author/christopher-campbell/\" title=\"Posts by Christopher Campbell\n"
     ]
    }
   ],
   "source": [
    "# Next, splice the content you've imported to include only the primary text of interest.\n",
    "# You'll need to investigate the website you are looking at and choose strategically what tags you look for to define\n",
    "# the starting and ending location of your splice. Build on the model in CleaningHTML.ipynb\n",
    "\n",
    "contents = str(HTML)\n",
    "startLoc = contents.find(\"<h1><em>Shang-Chi</em>\")\n",
    "endLoc = contents.find(\"September 3, 2021.</strong></p>\")\n",
    "\n",
    "print(startLoc)\n",
    "print(endLoc)\n",
    "\n",
    "contents = contents[startLoc: endLoc]\n",
    "print(contents[0: 500])"
   ]
  },
  {
   "cell_type": "code",
   "execution_count": 20,
   "metadata": {},
   "outputs": [
    {
     "name": "stdout",
     "output_type": "stream",
     "text": [
      "Shang-Chi First Reviews: One of the MCU\\'s Most Spectacular Origin Stories\\r\\n                        Critics say the film\\'s grounded themes, peerless action, and particularly fantastic villain \\xe2\\x80\\x93 thank you, Tony Leung \\xe2\\x80\\x93 make it a stellar introduction to a new hero.\\r\\n                        by Christopher Campbell | August 23, 2021                          | \\r\\n                          \\r\\n                              Comments\\r\\n                          \\r\\n         \n"
     ]
    }
   ],
   "source": [
    "# Implement a loop to remove all the HTML tags from your text.\n",
    "# Use the model provided in CleaningHTML.ipynb, and make sure to store your cleaned text as a string.\n",
    "# Print the string and inspect the results. Save your now  cleaned text as a .txt file with an appropriate name.\n",
    "\n",
    "inside = 0\n",
    "text = ''\n",
    "\n",
    "for char in contents:\n",
    "    if char == '<':\n",
    "        inside = 1\n",
    "    elif (inside == 1 and char == '>'):\n",
    "        inside = 0\n",
    "    elif inside== 1:\n",
    "        continue\n",
    "    else: \n",
    "        text += char\n",
    "\n",
    "f = open('shangchireviews.txt','w')\n",
    "f.write(text)\n",
    "f.close()\n",
    "\n",
    "print(text[0: 500])"
   ]
  },
  {
   "cell_type": "code",
   "execution_count": 36,
   "metadata": {},
   "outputs": [
    {
     "name": "stdout",
     "output_type": "stream",
     "text": [
      "shang-chi first reviews: one of the mcu's most spectacular origin stories                         critics say the film's grounded themes, peerless action, and particularly fantastic villain \\xe2\\x80\\x93 thank you, tony leung \\xe2\\x80\\x93 make it a stellar introduction to a new hero.                         by christopher campbell | august 23, 2021                          |                                                           comments                                                                                                                                                                                                                                                                                                                                                                                                                                                                    \\nhow many film franchises go for as long and for as many installments as the marvel cinematic universe h\n"
     ]
    }
   ],
   "source": [
    "# As your bonus challenge for this week, identify at least one other area of content that needs cleaning from your file:\n",
    "# this might be URLs, {} content, special characters, or other \"noise\" you want to cut from your string.\n",
    "# Using a combination of loops, conditionals, and string methods as appropriate, remove those elements from the text.\n",
    "\n",
    "\n",
    "text = text.replace(\"\\\\r\\\\n\", \" \")\n",
    "text = text.replace(\"\\\\'\", \"'\")\n",
    "print(text[0:1000])"
   ]
  },
  {
   "cell_type": "code",
   "execution_count": 37,
   "metadata": {},
   "outputs": [
    {
     "name": "stdout",
     "output_type": "stream",
     "text": [
      "['shang-chi', 'first', 'reviews:', 'one', 'of', 'the', \"mcu's\", 'most', 'spectacular', 'origin', 'stories', '', '', '', '', '', '', '', '', '', '', '', '', '', '', '', '', '', '', '', '', '', '', '', '', 'critics', 'say', 'the', \"film's\", 'grounded', 'themes,', 'peerless', 'action,', 'and', 'particularly', 'fantastic', 'villain', '\\\\xe2\\\\x80\\\\x93', 'thank', 'you,', 'tony', 'leung', '\\\\xe2\\\\x80\\\\x93', 'make', 'it', 'a', 'stellar', 'introduction', 'to', 'a', 'new', 'hero.', '', '', '', '', '', '', '', '', '', '', '', '', '', '', '', '', '', '', '', '', '', '', '', '', 'by', 'christopher', 'campbell', '|', 'august', '23,', '2021', '', '', '', '', '', '', '']\n",
      "shang-chi\n",
      "first\n",
      "reviews:\n",
      "one\n",
      "of\n",
      "the\n",
      "mcu's\n",
      "most\n",
      "spectacular\n",
      "origin\n",
      "stories\n",
      "\n",
      "\n",
      "\n",
      "\n",
      "\n",
      "\n",
      "\n",
      "\n",
      "\n",
      "\n",
      "\n",
      "\n",
      "\n",
      "\n",
      "\n",
      "\n",
      "\n",
      "\n",
      "\n",
      "\n",
      "\n",
      "\n",
      "\n",
      "\n",
      "critics\n",
      "say\n",
      "the\n",
      "film's\n",
      "grounded\n",
      "themes,\n",
      "peerless\n",
      "action,\n",
      "and\n",
      "particularly\n",
      "fantastic\n",
      "villain\n",
      "\\xe2\\x80\\x93\n",
      "thank\n",
      "you,\n",
      "tony\n",
      "leung\n",
      "\\xe2\\x80\\x93\n",
      "make\n",
      "it\n",
      "a\n",
      "stellar\n",
      "introduction\n",
      "to\n",
      "a\n",
      "new\n",
      "hero.\n",
      "\n",
      "\n",
      "\n",
      "\n",
      "\n",
      "\n",
      "\n",
      "\n",
      "\n",
      "\n",
      "\n",
      "\n",
      "\n",
      "\n",
      "\n",
      "\n",
      "\n",
      "\n",
      "\n",
      "\n",
      "\n",
      "\n",
      "\n",
      "\n",
      "by\n",
      "christopher\n",
      "campbell\n",
      "|\n",
      "august\n",
      "23,\n",
      "2021\n",
      "\n",
      "\n",
      "\n",
      "\n",
      "\n",
      "\n",
      "\n",
      "shang-chi\n",
      "first\n",
      "reviews:\n",
      "one\n",
      "of\n",
      "the\n",
      "mcu's\n",
      "most\n",
      "spectacular\n",
      "origin\n",
      "stories\n",
      "critics\n",
      "say\n",
      "the\n",
      "film's\n",
      "grounded\n",
      "themes,\n",
      "peerless\n",
      "action,\n",
      "and\n",
      "particularly\n",
      "fantastic\n",
      "villain\n",
      "\\xe2\\x80\\x93\n",
      "thank\n",
      "you,\n",
      "tony\n",
      "leung\n",
      "\\xe2\\x80\\x93\n",
      "make\n",
      "it\n",
      "a\n",
      "stellar\n",
      "introduction\n",
      "to\n",
      "a\n",
      "new\n",
      "hero.\n",
      "by\n",
      "christopher\n",
      "campbell\n",
      "|\n",
      "august\n",
      "23,\n",
      "2021\n",
      "first\n",
      "film's\n",
      "fantastic\n"
     ]
    }
   ],
   "source": [
    "# Now we're ready to analyze our text.\n",
    "# This time, try combining the elements we've used so far to handle our text by writing a simple algorithm following this model:\n",
    "\n",
    "# First, split your string into a \"bag of words\" by cutting at the whitespace into an array.\n",
    "\n",
    "split_string = text.split(\" \")\n",
    "print(split_string[0:100])\n",
    "\n",
    "# Next, create a loop that runs through every word in your new array\n",
    "\n",
    "for word in split_string[0:100]:\n",
    "    print(word)\n",
    "\n",
    "# Within the loop, create some conditionals and behaviors to process the words.\n",
    "# For instance, you might print out every word that starts with a certain letter, or print out words longer than a set length, etc.\n",
    "# Try playing with the loop breaks and continue options to handle different types of words differently.\n",
    "\n",
    "for word in split_string[0:100]:\n",
    "    if word == \"\":\n",
    "        continue\n",
    "    print(word)\n",
    "\n",
    "for word in split_string[0:100]:\n",
    "    if word.upper().startswith(\"F\"):\n",
    "        print(word)\n",
    "\n",
    "f = open('shangchireviews.txt','w')\n",
    "f.write(text)\n",
    "f.close()\n"
   ]
  },
  {
   "cell_type": "code",
   "execution_count": 34,
   "metadata": {},
   "outputs": [
    {
     "name": "stdout",
     "output_type": "stream",
     "text": [
      "['shang-chi', 'first', 'reviews:', 'one', 'of', 'the', \"mcu\\\\'s\", 'most', 'spectacular', 'origin', 'stories\\\\r\\\\n', 'critics', 'say', 'the', \"film\\\\'s\", 'grounded', 'themes,', 'peerless', 'action,', 'and', 'particularly', 'fantastic', 'villain', '\\\\xe2\\\\x80\\\\x93', 'thank', 'you,', 'tony', 'leung', '\\\\xe2\\\\x80\\\\x93', 'make', 'it', 'a', 'stellar', 'introduction', 'to', 'a', 'new', 'hero.\\\\r\\\\n', 'by', 'christopher', 'campbell', '|', 'august', '23,', '2021', '|', '\\\\r\\\\n', '\\\\r\\\\n', 'comments\\\\r\\\\n', '\\\\r\\\\n', '\\\\r\\\\n\\\\r\\\\n', '\\\\r\\\\n\\\\r\\\\n', '\\\\r\\\\n', '\\\\r\\\\n', '\\\\r\\\\n', '\\\\r\\\\n', '\\\\r\\\\n', '\\\\r\\\\n', '\\\\r\\\\n', '\\\\r\\\\n', '\\\\r\\\\n', '\\\\r\\\\n', '\\\\r\\\\n', '\\\\r\\\\n\\\\r\\\\n', '\\\\r\\\\n', '\\\\nhow', 'many', 'film', 'franchises', 'go', 'for', 'as', 'long', 'and', 'for', 'as', 'many', 'installments', 'as', 'the', 'marvel', 'cinematic', 'universe', 'has', 'and', 'still', 'keep', 'delivering', 'critical', 'favorites?', 'the', 'first', 'reviews', 'of', 'shang-chi', 'and', 'the', 'legend', 'of', 'the']\n"
     ]
    }
   ],
   "source": [
    "f = open('shangchireviews.txt', 'r')\n",
    "text = f.read()\n",
    "f.close()\n",
    "\n",
    "split_string = text.split()\n",
    "print(split_string[0:100])"
   ]
  },
  {
   "cell_type": "code",
   "execution_count": 33,
   "metadata": {},
   "outputs": [
    {
     "name": "stdout",
     "output_type": "stream",
     "text": [
      "['shang-chi', 'first', 'reviews:', 'one', 'of', 'the', \"mcu\\\\'s\", 'most', 'spectacular', 'origin', 'stories\\\\r\\\\n', 'critics', 'say', 'the', \"film\\\\'s\", 'grounded', 'themes,', 'peerless', 'action,', 'and', 'particularly', 'fantastic', 'villain', '\\\\xe2\\\\x80\\\\x93', 'thank', 'you,', 'tony', 'leung', '\\\\xe2\\\\x80\\\\x93', 'make', 'it', 'a', 'stellar', 'introduction', 'to', 'a', 'new', 'hero.\\\\r\\\\n', 'by', 'christopher', 'campbell', '|', 'august', '23,', '2021', '|', '\\\\r\\\\n', '\\\\r\\\\n', 'comments\\\\r\\\\n', '\\\\r\\\\n', '\\\\r\\\\n\\\\r\\\\n', '\\\\r\\\\n\\\\r\\\\n', '\\\\r\\\\n', '\\\\r\\\\n', '\\\\r\\\\n', '\\\\r\\\\n', '\\\\r\\\\n', '\\\\r\\\\n', '\\\\r\\\\n', '\\\\r\\\\n', '\\\\r\\\\n', '\\\\r\\\\n', '\\\\r\\\\n', '\\\\r\\\\n\\\\r\\\\n', '\\\\r\\\\n', '\\\\nhow', 'many', 'film', 'franchises', 'go', 'for', 'as', 'long', 'and', 'for', 'as', 'many', 'installments', 'as', 'the', 'marvel', 'cinematic', 'universe', 'has', 'and', 'still', 'keep', 'delivering', 'critical', 'favorites?', 'the', 'first', 'reviews', 'of', 'shang-chi', 'and', 'the', 'legend', 'of', 'the']\n"
     ]
    }
   ],
   "source": [
    "text = text.lower()\n",
    "split_string = text.split()\n",
    "print(split_string[0:100])"
   ]
  },
  {
   "cell_type": "code",
   "execution_count": 38,
   "metadata": {},
   "outputs": [
    {
     "name": "stdout",
     "output_type": "stream",
     "text": [
      "['shang', 'chi', 'first', 'reviews', 'one', 'of', 'the', 'mcu', 's', 'most', 'spectacular', 'origin', 'stories', 'critics', 'say', 'the', 'film', 's', 'grounded', 'themes', 'peerless', 'action', 'and', 'particularly', 'fantastic', 'villain', 'xe2', 'x80', 'x93', 'thank', 'you', 'tony', 'leung', 'xe2', 'x80', 'x93', 'make', 'it', 'a', 'stellar', 'introduction', 'to', 'a', 'new', 'hero', 'by', 'christopher', 'campbell', 'august', '23', '2021', 'comments', 'nhow', 'many', 'film', 'franchises', 'go', 'for', 'as', 'long', 'and', 'for', 'as', 'many', 'installments', 'as', 'the', 'marvel', 'cinematic', 'universe', 'has', 'and', 'still', 'keep', 'delivering', 'critical', 'favorites', 'the', 'first', 'reviews', 'of', 'shang', 'chi', 'and', 'the', 'legend', 'of', 'the', 'ten', 'rings', 'are', 'calling', 'it', 'one', 'of', 'the', 'best', 'mcu', 'entries', 'yet']\n"
     ]
    }
   ],
   "source": [
    "# Regular Expressions: https://docs.python.org/3/library/re.html#re.Pattern.match\n",
    "\n",
    "def preprocess_text(filename):\n",
    "    f = open(filename, 'r')\n",
    "    text = f.read()\n",
    "    f.close()\n",
    "    text = text.lower()\n",
    "    import re\n",
    "    return re.compile(r'\\W+', re.UNICODE).split(text)\n",
    "\n",
    "split_string = preprocess_text('shangchireviews.txt')\n",
    "print(split_string[0:100])"
   ]
  },
  {
   "cell_type": "code",
   "execution_count": 39,
   "metadata": {},
   "outputs": [
    {
     "name": "stdout",
     "output_type": "stream",
     "text": [
      "Frequencies: [10, 36, 5, 2, 12, 69, 131, 18, 5, 9, 1, 5, 3, 2, 2, 131, 25, 5, 1, 2, 1, 13, 43, 2, 2, 5, 202, 202, 2, 1, 4, 2, 5, 202, 202, 2, 2, 30, 41, 1, 1, 41, 41, 1, 2, 7, 1, 1, 1, 1, 1, 1, 7, 5, 25, 1, 5, 16, 26, 2, 43, 16, 26, 5, 1, 26, 131, 19, 6, 5, 7, 43, 3, 3, 1, 2, 1, 131, 5, 2, 69, 10, 36, 43, 131, 7, 69, 131, 7, 7, 9, 1, 30, 12, 69, 131, 15, 18, 1, 3]\n",
      "Pairs: [('shang', 10), ('chi', 36), ('first', 5), ('reviews', 2), ('one', 12), ('of', 69), ('the', 131), ('mcu', 18), ('s', 5), ('most', 9), ('spectacular', 1), ('origin', 5), ('stories', 3), ('critics', 2), ('say', 2), ('the', 131), ('film', 25), ('s', 5), ('grounded', 1), ('themes', 2), ('peerless', 1), ('action', 13), ('and', 43), ('particularly', 2), ('fantastic', 2), ('villain', 5), ('xe2', 202), ('x80', 202), ('x93', 2), ('thank', 1), ('you', 4), ('tony', 2), ('leung', 5), ('xe2', 202), ('x80', 202), ('x93', 2), ('make', 2), ('it', 30), ('a', 41), ('stellar', 1), ('introduction', 1), ('to', 41), ('a', 41), ('new', 1), ('hero', 2), ('by', 7), ('christopher', 1), ('campbell', 1), ('august', 1), ('23', 1), ('2021', 1), ('comments', 1), ('nhow', 7), ('many', 5), ('film', 25), ('franchises', 1), ('go', 5), ('for', 16), ('as', 26), ('long', 2), ('and', 43), ('for', 16), ('as', 26), ('many', 5), ('installments', 1), ('as', 26), ('the', 131), ('marvel', 19), ('cinematic', 6), ('universe', 5), ('has', 7), ('and', 43), ('still', 3), ('keep', 3), ('delivering', 1), ('critical', 2), ('favorites', 1), ('the', 131), ('first', 5), ('reviews', 2), ('of', 69), ('shang', 10), ('chi', 36), ('and', 43), ('the', 131), ('legend', 7), ('of', 69), ('the', 131), ('ten', 7), ('rings', 7), ('are', 9), ('calling', 1), ('it', 30), ('one', 12), ('of', 69), ('the', 131), ('best', 15), ('mcu', 18), ('entries', 1), ('yet', 3)]\n"
     ]
    }
   ],
   "source": [
    "#box for holding the count of each word in the order it appears \n",
    "word_freq = []\n",
    "#loop though every single word in our data set \n",
    "for word in split_string:\n",
    "#count how many times that word appears in whole bag of words, then save that count at the same spot in line\n",
    "# (same index as the word-bag as the word_freq)\n",
    "    word_freq.append(split_string.count(word))\n",
    "\n",
    "\n",
    "#shows us the counts of each word in order \n",
    "print(\"Frequencies: \" + str(word_freq[0:100]))\n",
    "#zip the two lists, so that the pairs are connected\n",
    "print(\"Pairs: \" + str(list(zip(split_string[0:100],word_freq[0:100]))))"
   ]
  },
  {
   "cell_type": "code",
   "execution_count": 43,
   "metadata": {},
   "outputs": [
    {
     "name": "stdout",
     "output_type": "stream",
     "text": [
      "m\n",
      "array\n",
      "m\n",
      "a\n"
     ]
    }
   ],
   "source": [
    "string = \"sample string\"\n",
    "print(string[2])\n",
    "\n",
    "array = [\"sample\",\"array\"]\n",
    "print(array[1])\n",
    "\n",
    "print(array[0][2])\n",
    "print(array[1][3])"
   ]
  },
  {
   "cell_type": "code",
   "execution_count": 48,
   "metadata": {},
   "outputs": [
    {
     "name": "stdout",
     "output_type": "stream",
     "text": [
      "0\n",
      "1\n",
      "3\n",
      "dict_keys(['word', 'another', 'more'])\n"
     ]
    }
   ],
   "source": [
    "dictionary = {'word': 1, 'another': 0, 'more': 3}\n",
    "print(dictionary['another'])\n",
    "print(dictionary['word'])\n",
    "print(dictionary['more'])\n",
    "print(dictionary.keys())"
   ]
  },
  {
   "cell_type": "code",
   "execution_count": 49,
   "metadata": {},
   "outputs": [
    {
     "name": "stdout",
     "output_type": "stream",
     "text": [
      "['shang', 'chi', 'first', 'reviews', 'one', 'of', 'the', 'mcu', 's', 'most', 'spectacular', 'origin', 'stories', 'critics', 'say', 'the', 'film', 's', 'grounded', 'themes', 'peerless', 'action', 'and', 'particularly', 'fantastic', 'villain', 'xe2', 'x80', 'x93', 'thank', 'you', 'tony', 'leung', 'xe2', 'x80', 'x93', 'make', 'it', 'a', 'stellar', 'introduction', 'to', 'a', 'new', 'hero', 'by', 'christopher', 'campbell', 'august', '23', '2021', 'comments', 'nhow', 'many', 'film', 'franchises', 'go', 'for', 'as', 'long', 'and', 'for', 'as', 'many', 'installments', 'as', 'the', 'marvel', 'cinematic', 'universe', 'has', 'and', 'still', 'keep', 'delivering', 'critical', 'favorites', 'the', 'first', 'reviews', 'of', 'shang', 'chi', 'and', 'the', 'legend', 'of', 'the', 'ten', 'rings', 'are', 'calling', 'it', 'one', 'of', 'the', 'best', 'mcu', 'entries', 'yet']\n",
      "{'shang': 10, 'chi': 36, 'first': 5, 'reviews': 2, 'one': 12, 'of': 69, 'the': 131, 'mcu': 18, 's': 5, 'most': 9, 'spectacular': 1, 'origin': 5, 'stories': 3, 'critics': 2, 'say': 2, 'film': 25, 'grounded': 1, 'themes': 2, 'peerless': 1, 'action': 13, 'and': 43, 'particularly': 2, 'fantastic': 2, 'villain': 5, 'xe2': 202, 'x80': 202, 'x93': 2, 'thank': 1, 'you': 4, 'tony': 2, 'leung': 5, 'make': 2, 'it': 30, 'a': 41, 'stellar': 1, 'introduction': 1, 'to': 41, 'new': 1, 'hero': 2, 'by': 7, 'christopher': 1, 'campbell': 1, 'august': 1, '23': 1, '2021': 1, 'comments': 1, 'nhow': 7, 'many': 5, 'franchises': 1, 'go': 5, 'for': 16, 'as': 26, 'long': 2, 'installments': 1, 'marvel': 19, 'cinematic': 6, 'universe': 5, 'has': 7, 'still': 3, 'keep': 3, 'delivering': 1, 'critical': 2, 'favorites': 1, 'legend': 7, 'ten': 7, 'rings': 7, 'are': 9, 'calling': 1, 'best': 15, 'entries': 1, 'yet': 3, 'those': 1, 'qualified': 1, 'speak': 1, 'on': 9, 'such': 2, 'elements': 1, 'offer': 2, 'particular': 2, 'praise': 1, 'toward': 1, 'asian': 10, 'representation': 5, 'martial': 3, 'arts': 3, 'being': 1, 'exceptional': 1, 'hollywood': 6, 'blockbuster': 2, 'cinema': 2, 'in': 29, 'general': 1, 'nhere': 1, 'x99s': 33, 'what': 4, 'saying': 1, 'about': 4, 'n': 91, 'nwill': 2, 'fans': 2, 'love': 1, 'x9cthe': 13, 'movie': 8, 'full': 3, 'delivers': 2, 'theatrical': 1, 'experience': 3, 'x99ve': 4, 'been': 3, 'jonesing': 1, 'x9d': 68, '8211': 68, 'rohan': 7, 'patel': 7, 'comicbookmovie': 7, 'com': 9, 'x9cshang': 12, 'joins': 1, 'ranks': 1, 'me': 3, 'with': 14, 'winter': 1, 'soldier': 1, 'thor': 1, 'ragnarok': 2, 'infinity': 1, 'war': 1, 'some': 4, 'that': 8, 'xa6': 12, 'this': 3, 'is': 29, 'solo': 2, 'years': 3, 'jon': 2, 'nguyen': 5, 'flickering': 2, 'myth': 2, 'x9cone': 3, 'xc2': 39, 'xa0in': 1, 'rachel': 1, 'labonte': 1, 'screenrant': 1, 'x9cwould': 1, 'rank': 1, 'pretty': 1, 'high': 1, 'when': 2, 'comes': 1, 'i': 3, 'x99d': 1, 'maybe': 2, 'only': 3, 'iron': 1, 'man': 2, 'black': 1, 'panther': 2, 'movies': 2, 'do': 4, 'better': 2, 'brian': 2, 'frederick': 2, 'pop': 2, 'culture': 2, 'leftovers': 2, 'x9cas': 3, 'remixes': 1, 'xa0shang': 13, 'xa0is': 4, 'more': 9, 'successful': 1, 'ones': 2, 'not': 4, 'stylistically': 1, 'strong': 2, 'xa0black': 2, 'widow': 2, 'xa0and': 2, 'certainly': 1, 'much': 5, 'watershed': 1, 'moment': 1, 'hoai': 8, 'tran': 8, 'bui': 8, 'slashfilm': 8, 'x9c': 2, 'puts': 1, 'bed': 1, 'any': 2, 'concern': 1, 'might': 3, 'have': 4, 'had': 2, 'drop': 1, 'off': 2, 'phase': 2, 'iv': 1, 'sprawling': 1, 'brandon': 1, 'katz': 1, 'observer': 1, 'ndoes': 4, 'feel': 3, 'unique': 1, 'franchise': 3, 'x9cmarvel': 1, 'breaks': 1, 'its': 15, 'own': 3, 'mold': 1, 'multiple': 1, 'fronts': 1, 'energized': 1, 'jeffrey': 7, 'zhang': 8, 'strange': 7, 'harbors': 7, 'enjoyable': 1, 'shakes': 1, 'tedious': 1, 'imperatives': 1, 'forges': 1, 'path': 1, 'justin': 4, 'chang': 4, 'los': 4, 'angeles': 4, 'times': 6, 'familiar': 2, 'superhero': 4, 'story': 3, 'blessedly': 1, 'feels': 4, 'like': 7, 'least': 2, 'films': 4, 'we': 4, 'lately': 1, 'xa0barely': 1, 'at': 6, 'all': 1, 'if': 3, 'anything': 3, 'veers': 1, 'closer': 1, 'wistful': 1, 'grandeur': 1, 'disney': 2, 'live': 3, 'fairy': 1, 'tale': 1, 'adaptations': 1, 'angie': 3, 'han': 3, 'reporter': 3, 'x9cat': 2, 'basic': 1, 'level': 1, 'very': 2, 'another': 2, 'affair': 1, 'from': 4, 'point': 1, 'view': 1, 'there': 6, 'no': 2, 'reinvention': 1, 'wheel': 1, 'therese': 3, 'lacson': 3, 'beat': 4, 'nryan': 2, 'fujitani': 2, 'well': 2, 'does': 2, 'handle': 1, 'x9cgetting': 1, 'see': 6, 'myself': 1, 'reflected': 1, 'flick': 1, 'despite': 1, 'flaws': 1, 'makes': 2, 'excited': 2, 'x9ccultural': 1, 'authenticity': 1, 'abounds': 1, 'nancy': 4, 'wang': 4, 'yuen': 4, 'io9': 4, 'major': 1, 'strides': 1, 'than': 5, 'just': 3, 'plastering': 1, 'faces': 1, 'screen': 3, 'dives': 1, 'deep': 1, 'into': 4, 'american': 2, 'x9cthis': 2, 'often': 2, 'an': 5, 'actual': 1, 'reflection': 1, 'versus': 1, 'uninspired': 1, 'imitation': 1, 'x9cit': 3, 'bit': 1, 'tiring': 1, 'dragon': 2, 'trope': 1, 'involved': 1, 'led': 1, 'which': 3, 'shame': 1, 'subtle': 1, 'nods': 1, 'diaspora': 1, 'relish': 1, 'laura': 7, 'sirikul': 7, 'empire': 7, 'magazine': 7, 'fight': 3, 'scenes': 5, 'x9cyou': 1, 'x99ll': 2, 'be': 6, 'happy': 1, 'hear': 1, 'parts': 1, 'xa0are': 1, 'elevated': 1, 'choreography': 1, 'conveys': 1, 'thing': 1, 'so': 5, 'missing': 1, 'flavor': 1, 'studio': 1, 'date': 2, 'country': 2, 'mile': 1, 'seen': 2, 'doesn': 1, 'x99t': 3, 'boast': 1, 'manages': 5, 'two': 3, 'eye': 2, 'popping': 1, 'sequences': 4, 'unspool': 1, 'before': 2, 'act': 4, 'over': 2, 'kate': 3, 'erbland': 3, 'indiewire': 3, 'x9ci': 1, 'x99m': 1, 'fan': 1, 'fighting': 1, 'but': 9, 'enjoyed': 1, 'ballet': 1, 'style': 1, 'cretton': 5, 'devised': 1, 'his': 5, 'patricia': 2, 'puentes': 2, 'ask': 2, 'photo': 4, 'xa9': 2, 'studios': 6, 'walt': 1, 'motion': 1, 'pictures': 1, 'up': 6, 'influences': 3, 'may': 1, 'ambitions': 1, 'x94': 2, 'too': 3, 'aesthetically': 1, 'anonymous': 1, 'cg': 1, 'polished': 1, 'nice': 1, 'them': 1, 'begin': 1, 'pale': 1, 'imitations': 1, 'wuxia': 3, 'inspired': 4, 'feeling': 1, 'weightless': 1, 'out': 3, 'xa0crouching': 1, 'tiger': 1, 'hidden': 1, 'jackie': 1, 'chan': 2, 'takes': 1, 'work': 1, 'destin': 1, 'daniel': 1, 'director': 2, 'x9che': 2, 'directs': 1, 'infectious': 1, 'energy': 1, 'always': 1, 'putting': 1, 'characters': 1, 'making': 3, 'invested': 1, 'their': 1, 'individual': 1, 'journeys': 1, 'last': 1, 'here': 3, 'who': 2, 'knows': 1, 'core': 1, 'material': 1, 'ensures': 1, 'department': 1, 'will': 1, 'get': 1, 'credit': 1, 'le': 3, 'jumpcut': 3, 'online': 3, 'look': 2, 'x9cwait': 1, 'until': 1, 'gorgeous': 2, 'design': 1, 'ta': 2, 'lo': 2, 'tons': 1, 'candy': 1, 'amazing': 1, 'creature': 1, 'designs': 1, 'x9cthere': 1, 'stunning': 1, 'they': 3, 'impressive': 1, 'eric': 1, 'eisenberg': 1, 'blend': 1, 'visually': 1, 'coherent': 1, 'moments': 3, 'quite': 2, 'beautiful': 1, 'even': 2, 'descends': 1, 'cgi': 3, 'bombast': 1, 'xa0': 1, 'simu': 1, 'liu': 3, 'x9cliu': 2, 'knocks': 1, 'park': 1, 'adding': 1, 'tad': 1, 'levity': 2, 'known': 1, 'serious': 1, 'comic': 3, 'book': 2, 'character': 5, 'x9csimu': 1, 'gives': 3, 'charismatic': 1, 'nicely': 1, 'understated': 1, 'performance': 3, 'helps': 1, 'mitigate': 1, 'muddled': 2, 'storytelling': 1, 'tim': 1, 'grierson': 1, 'international': 1, 'responsible': 1, 'respectful': 1, 'charming': 1, 'carefree': 1, 'him': 1, 'instantly': 1, 'relatable': 1, 'americans': 1, 'across': 1, 'magnetic': 1, 'he': 2, 'struggles': 2, 'quieter': 1, 'script': 3, 'backstory': 3, 'personality': 1, 'seems': 1, 'inherited': 1, 'father': 2, 'prowess': 1, 'nearly': 1, 'enough': 2, 'charisma': 1, 'jasin': 1, 'boland': 1, 'xa9marvel': 3, 'nwhat': 2, 'awkwafina': 2, 'x9cawkwafina': 3, 'becomes': 2, 'vital': 1, 'source': 1, 'welcoming': 1, 'audience': 1, 'surrogate': 1, 'ramps': 1, 'large': 2, 'battle': 1, 'nick': 2, 'allen': 2, 'rogerebert': 2, 'proven': 1, 'effortless': 1, 'layered': 1, 'role': 2, 'xa0the': 1, 'farewell': 1, 'isn': 2, 'allowed': 1, 'beyond': 1, 'x98funnywoman': 1, 'x99': 2, 'both': 1, 'worse': 1, 'few': 2, 'allow': 1, 'her': 3, 'shtick': 1, 'or': 1, 'rob': 4, 'hunter': 3, 'school': 4, 'rejects': 3, 'nand': 1, 'x98villain': 1, 'effortlessly': 1, 'proves': 1, 'our': 2, 'greatest': 2, 'actors': 1, 'past': 1, '40': 1, 'villains': 1, 'perhaps': 1, 'x9ctony': 1, 'finest': 1, 'performances': 1, 'ever': 2, 'should': 1, 'down': 1, 'antagonists': 1, 'because': 2, 'passion': 1, 'grief': 2, 'expresses': 1, 'appropriately': 1, 'sized': 1, 'x9chis': 1, 'anchors': 1, 'expands': 1, 'potential': 1, 'shirley': 1, 'li': 1, 'atlantic': 1, 'x9cleung': 2, 'wenwu': 1, 'provides': 1, 'depths': 1, 'could': 1, 'dimensional': 1, 'bad': 1, 'guy': 1, 'however': 1, 'real': 2, 'nare': 1, 'other': 1, 'standouts': 1, 'dark': 1, 'horse': 1, 'meng': 1, 'x99er': 1, 'xialing': 3, 'lesser': 1, 'she': 3, 'would': 1, 'discarded': 1, 'sidelines': 1, 'remarkable': 1, 'shading': 1, 'x9cmichelle': 1, 'yeoh': 1, 'also': 2, 'plays': 2, 'pivotal': 1, 'absolutely': 1, 'wonderful': 1, '8217': 4, 'women': 3, 'strongest': 1, 'fighters': 1, 'depicted': 1, 'xa0presents': 2, 'badass': 1, 'exist': 1, 'support': 1, 'journey': 2, 'x9cin': 2, 'drawing': 1, 'attention': 1, 'personal': 1, 'history': 1, 'neglect': 1, 'insistently': 1, 'telegraphs': 1, 'awareness': 1, 'shortcomings': 1, 'x9czhang': 1, 'compelling': 1, 'set': 3, 'dressing': 1, 'main': 1, 'unfortunate': 1, 'given': 1, 'screenplay': 1, 'rest': 1, 'justice': 1, 'dave': 1, 'callaham': 1, 'andrew': 1, 'lanham': 1, 'charts': 1, 'self': 2, 'discovery': 1, 'fun': 1, 'heart': 1, 'details': 1, 'xa0does': 1, 'pacing': 1, 'issues': 1, 'where': 1, 'convoluted': 1, 'information': 1, 'world': 1, 'how': 2, 'relates': 1, 'whole': 1, 'middle': 1, 'sags': 1, 'exposition': 1, 'screenwriters': 1, 'attempt': 1, 'maneuver': 1, 'around': 1, 'finicky': 1, 'problems': 1, 'nis': 2, 'funny': 2, 'xa0seems': 1, 'reflect': 1, 'millennial': 1, 'sensibility': 1, 'mixture': 1, 'comedy': 2, 'fresh': 1, 'brand': 1, 'humor': 2, 'almost': 1, 'reminded': 1, 'taika': 2, 'waititi': 2, 'xa0thor': 1, 'cast': 1, 'carry': 1, 'sense': 1, 'tongue': 1, 'cheek': 1, 'throughout': 1, 'later': 1, 'surprise': 1, 'hailing': 1, 'straight': 1, 'jokes': 1, 'xa0from': 1, 'tipping': 1, 'importance': 1, 'wonder': 1, 'family': 3, 'x9cthey': 1, 've': 1, 'never': 1, 'handled': 1, 'nuance': 1, 'emotion': 1, 'granted': 1, 'relationship': 1, 'between': 1, 'infuses': 1, 'these': 1, 'believability': 1, 'charm': 1, 'x9cblack': 1, 'worst': 1, 'vacation': 1, 'scenario': 1, 'superheroes': 1, 'while': 1, 'reunion': 1, 'lost': 1, 'relative': 1, 'revelation': 1, 'jana': 2, 'monji': 2, 'age': 2, 'geek': 2, '8230': 1, 'sexier': 1, 'your': 1, 'typical': 1, 'steamiest': 1, 'swerve': 1, 'uncharacteristic': 1, 'prologue': 1, 'cranks': 1, 'sexiness': 1, 'romance': 1, 'passionate': 1, 'distinct': 1, 'pieces': 1, 'placed': 1, 'romantic': 1, 'leads': 1, 'devastatingly': 1, 'handsome': 1, 'boot': 1, 'inject': 1, 'sex': 1, 'appeal': 1, 'merely': 1, 'stick': 1, 'landing': 1, 'finale': 1, 'truly': 1, 'unlike': 1, 'come': 2, 'pure': 1, 'unadulterated': 1, 'spectacle': 1, 'fantastical': 1, 'watching': 1, 'splash': 1, 'page': 1, 'life': 1, 'x9cthough': 1, 'falls': 1, 'victim': 1, 'dreaded': 1, 'third': 3, 'muddle': 1, 'x98s': 1, 'forgivable': 1, 'verges': 1, 'fantasia': 1, 'my': 1, 'biggest': 1, 'complaints': 1, 'heavy': 1, 'use': 1, 'final': 2, 'felt': 1, 'clunky': 1, 'ended': 1, 'overshadowing': 1, 'emotional': 1, 'employs': 1, 'reckless': 1, 'disappointing': 1, 'abandon': 1, 'demolition': 1, 'derby': 1, 'weakness': 1, 'writ': 1, 'us': 1, 'future': 3, 'bright': 2, 'expanded': 1, 'danielle': 1, 'solzman': 1, 'solzy': 1, 'x9cgiven': 1, 'show': 1, 'looks': 1, 'step': 1, 'right': 1, 'direction': 1, 'four': 1, 'really': 1, 'embracing': 1, 'diversity': 1, 'way': 1, 'includes': 1, 'people': 1, 'descent': 1, 'nshang': 1, 'theaters': 1, 'xa0on': 1, '': 1}\n"
     ]
    }
   ],
   "source": [
    "def preprocess_text(filename):\n",
    "    f = open(filename, 'r')\n",
    "    text = f.read()\n",
    "    f.close()\n",
    "    text = text.lower()\n",
    "    import re\n",
    "    return re.compile(r'\\W+', re.UNICODE).split(text)\n",
    "\n",
    "split_string = preprocess_text('shangchireviews.txt')\n",
    "print(split_string[0:100])\n",
    "\n",
    "def wordsToDictionary(split_string):\n",
    "    word_freq = [split_string.count(word) for word in split_string]\n",
    "    return dict(list(zip(split_string,word_freq)))\n",
    "\n",
    "# test_words = [\"my\",\"words\",\"my\",\"words\",\"no\",\"word\",\"word\",\"word\"]\n",
    "counted_words = wordsToDictionary(split_string)\n",
    "print(counted_words)"
   ]
  },
  {
   "cell_type": "code",
   "execution_count": 50,
   "metadata": {},
   "outputs": [
    {
     "name": "stdout",
     "output_type": "stream",
     "text": [
      "[(202, 'xe2'), (202, 'x80'), (131, 'the'), (91, 'n'), (69, 'of'), (68, 'x9d'), (68, '8211'), (43, 'and'), (41, 'to'), (41, 'a'), (39, 'xc2'), (36, 'chi'), (33, 'x99s'), (30, 'it'), (29, 'is'), (29, 'in'), (26, 'as'), (25, 'film'), (19, 'marvel'), (18, 'mcu'), (16, 'for'), (15, 'its'), (15, 'best'), (14, 'with'), (13, 'xa0shang'), (13, 'x9cthe'), (13, 'action'), (12, 'xa6'), (12, 'x9cshang'), (12, 'one'), (10, 'shang'), (10, 'asian'), (9, 'on'), (9, 'most'), (9, 'more'), (9, 'com'), (9, 'but'), (9, 'are'), (8, 'zhang'), (8, 'tran'), (8, 'that'), (8, 'slashfilm'), (8, 'movie'), (8, 'hoai'), (8, 'bui'), (7, 'ten'), (7, 'strange'), (7, 'sirikul'), (7, 'rohan'), (7, 'rings'), (7, 'patel'), (7, 'nhow'), (7, 'magazine'), (7, 'like'), (7, 'legend'), (7, 'laura'), (7, 'jeffrey'), (7, 'has'), (7, 'harbors'), (7, 'empire'), (7, 'comicbookmovie'), (7, 'by'), (6, 'up'), (6, 'times'), (6, 'there'), (6, 'studios'), (6, 'see'), (6, 'hollywood'), (6, 'cinematic'), (6, 'be'), (6, 'at'), (5, 'villain'), (5, 'universe'), (5, 'than'), (5, 'so'), (5, 'scenes'), (5, 's'), (5, 'representation'), (5, 'origin'), (5, 'nguyen'), (5, 'much'), (5, 'many'), (5, 'manages'), (5, 'leung'), (5, 'his'), (5, 'go'), (5, 'first'), (5, 'cretton'), (5, 'character'), (5, 'an'), (4, 'yuen'), (4, 'you'), (4, 'xa0is'), (4, 'x99ve'), (4, 'what'), (4, 'we'), (4, 'wang'), (4, 'superhero'), (4, 'some'), (4, 'sequences'), (4, 'school'), (4, 'rob'), (4, 'photo'), (4, 'not'), (4, 'ndoes'), (4, 'nancy'), (4, 'los'), (4, 'justin'), (4, 'io9'), (4, 'into'), (4, 'inspired'), (4, 'have'), (4, 'from'), (4, 'films'), (4, 'feels'), (4, 'do'), (4, 'chang'), (4, 'beat'), (4, 'angeles'), (4, 'act'), (4, 'about'), (4, '8217'), (3, 'yet'), (3, 'years'), (3, 'xialing'), (3, 'xa9marvel'), (3, 'x9cone'), (3, 'x9cit'), (3, 'x9cawkwafina'), (3, 'x9cas'), (3, 'x99t'), (3, 'wuxia'), (3, 'women'), (3, 'which'), (3, 'two'), (3, 'too'), (3, 'this'), (3, 'third'), (3, 'they'), (3, 'therese'), (3, 'story'), (3, 'stories'), (3, 'still'), (3, 'she'), (3, 'set'), (3, 'script'), (3, 'screen'), (3, 'reporter'), (3, 'rejects'), (3, 'performance'), (3, 'own'), (3, 'out'), (3, 'only'), (3, 'online'), (3, 'moments'), (3, 'might'), (3, 'me'), (3, 'martial'), (3, 'making'), (3, 'live'), (3, 'liu'), (3, 'le'), (3, 'lacson'), (3, 'keep'), (3, 'kate'), (3, 'just'), (3, 'jumpcut'), (3, 'influences'), (3, 'indiewire'), (3, 'if'), (3, 'i'), (3, 'hunter'), (3, 'here'), (3, 'her'), (3, 'han'), (3, 'gives'), (3, 'future'), (3, 'full'), (3, 'franchise'), (3, 'fight'), (3, 'feel'), (3, 'family'), (3, 'experience'), (3, 'erbland'), (3, 'comic'), (3, 'cgi'), (3, 'been'), (3, 'backstory'), (3, 'arts'), (3, 'anything'), (3, 'angie'), (2, 'xa9'), (2, 'xa0presents'), (2, 'xa0black'), (2, 'xa0and'), (2, 'x9cthis'), (2, 'x9cliu'), (2, 'x9cleung'), (2, 'x9cin'), (2, 'x9che'), (2, 'x9cat'), (2, 'x9c'), (2, 'x99ll'), (2, 'x99'), (2, 'x94'), (2, 'x93'), (2, 'widow'), (2, 'who'), (2, 'when'), (2, 'well'), (2, 'waititi'), (2, 'very'), (2, 'tony'), (2, 'themes'), (2, 'taika'), (2, 'ta'), (2, 'such'), (2, 'struggles'), (2, 'strong'), (2, 'solo'), (2, 'self'), (2, 'seen'), (2, 'say'), (2, 'role'), (2, 'rogerebert'), (2, 'reviews'), (2, 'real'), (2, 'ragnarok'), (2, 'quite'), (2, 'puentes'), (2, 'pop'), (2, 'plays'), (2, 'phase'), (2, 'patricia'), (2, 'particularly'), (2, 'particular'), (2, 'panther'), (2, 'over'), (2, 'our'), (2, 'ones'), (2, 'often'), (2, 'offer'), (2, 'off'), (2, 'nwill'), (2, 'nwhat'), (2, 'nryan'), (2, 'no'), (2, 'nis'), (2, 'nick'), (2, 'myth'), (2, 'muddled'), (2, 'movies'), (2, 'monji'), (2, 'maybe'), (2, 'man'), (2, 'makes'), (2, 'make'), (2, 'look'), (2, 'long'), (2, 'lo'), (2, 'levity'), (2, 'leftovers'), (2, 'least'), (2, 'large'), (2, 'journey'), (2, 'jon'), (2, 'jana'), (2, 'isn'), (2, 'humor'), (2, 'how'), (2, 'hero'), (2, 'he'), (2, 'had'), (2, 'grief'), (2, 'greatest'), (2, 'gorgeous'), (2, 'geek'), (2, 'funny'), (2, 'fujitani'), (2, 'frederick'), (2, 'flickering'), (2, 'final'), (2, 'few'), (2, 'father'), (2, 'fantastic'), (2, 'fans'), (2, 'familiar'), (2, 'eye'), (2, 'excited'), (2, 'ever'), (2, 'even'), (2, 'enough'), (2, 'dragon'), (2, 'does'), (2, 'disney'), (2, 'director'), (2, 'delivers'), (2, 'date'), (2, 'culture'), (2, 'critics'), (2, 'critical'), (2, 'country'), (2, 'comedy'), (2, 'come'), (2, 'cinema'), (2, 'chan'), (2, 'bright'), (2, 'brian'), (2, 'book'), (2, 'blockbuster'), (2, 'better'), (2, 'before'), (2, 'becomes'), (2, 'because'), (2, 'awkwafina'), (2, 'ask'), (2, 'any'), (2, 'another'), (2, 'american'), (2, 'also'), (2, 'allen'), (2, 'age'), (1, 'your'), (1, 'yeoh'), (1, 'xa0thor'), (1, 'xa0the'), (1, 'xa0seems'), (1, 'xa0on'), (1, 'xa0in'), (1, 'xa0from'), (1, 'xa0does'), (1, 'xa0crouching'), (1, 'xa0barely'), (1, 'xa0are'), (1, 'xa0'), (1, 'x9czhang'), (1, 'x9cyou'), (1, 'x9cwould'), (1, 'x9cwait'), (1, 'x9ctony'), (1, 'x9cthough'), (1, 'x9cthey'), (1, 'x9cthere'), (1, 'x9csimu'), (1, 'x9cmichelle'), (1, 'x9cmarvel'), (1, 'x9ci'), (1, 'x9chis'), (1, 'x9cgiven'), (1, 'x9cgetting'), (1, 'x9ccultural'), (1, 'x9cblack'), (1, 'x99m'), (1, 'x99er'), (1, 'x99d'), (1, 'x98villain'), (1, 'x98s'), (1, 'x98funnywoman'), (1, 'writ'), (1, 'would'), (1, 'worst'), (1, 'worse'), (1, 'world'), (1, 'work'), (1, 'wonderful'), (1, 'wonder'), (1, 'wistful'), (1, 'winter'), (1, 'will'), (1, 'whole'), (1, 'while'), (1, 'where'), (1, 'wheel'), (1, 'wenwu'), (1, 'welcoming'), (1, 'weightless'), (1, 'weakness'), (1, 'way'), (1, 'watershed'), (1, 'watching'), (1, 'war'), (1, 'walt'), (1, 'vital'), (1, 'visually'), (1, 'villains'), (1, 'view'), (1, 'victim'), (1, 'versus'), (1, 'verges'), (1, 'veers'), (1, 've'), (1, 'vacation'), (1, 'use'), (1, 'us'), (1, 'until'), (1, 'unspool'), (1, 'unlike'), (1, 'unique'), (1, 'uninspired'), (1, 'unfortunate'), (1, 'understated'), (1, 'uncharacteristic'), (1, 'unadulterated'), (1, 'typical'), (1, 'truly'), (1, 'trope'), (1, 'toward'), (1, 'tons'), (1, 'tongue'), (1, 'tiring'), (1, 'tipping'), (1, 'tim'), (1, 'tiger'), (1, 'throughout'), (1, 'those'), (1, 'thor'), (1, 'thing'), (1, 'these'), (1, 'them'), (1, 'their'), (1, 'theatrical'), (1, 'theaters'), (1, 'thank'), (1, 'telegraphs'), (1, 'tedious'), (1, 'tale'), (1, 'takes'), (1, 'tad'), (1, 'swerve'), (1, 'surrogate'), (1, 'surprise'), (1, 'support'), (1, 'superheroes'), (1, 'successful'), (1, 'subtle'), (1, 'stylistically'), (1, 'style'), (1, 'stunning'), (1, 'studio'), (1, 'strongest'), (1, 'strides'), (1, 'straight'), (1, 'storytelling'), (1, 'stick'), (1, 'step'), (1, 'stellar'), (1, 'steamiest'), (1, 'standouts'), (1, 'sprawling'), (1, 'splash'), (1, 'spectacular'), (1, 'spectacle'), (1, 'speak'), (1, 'source'), (1, 'solzy'), (1, 'solzman'), (1, 'soldier'), (1, 'sized'), (1, 'simu'), (1, 'sidelines'), (1, 'shtick'), (1, 'show'), (1, 'should'), (1, 'shortcomings'), (1, 'shirley'), (1, 'shame'), (1, 'shakes'), (1, 'shading'), (1, 'sexiness'), (1, 'sexier'), (1, 'sex'), (1, 'serious'), (1, 'sensibility'), (1, 'sense'), (1, 'seems'), (1, 'screenwriters'), (1, 'screenrant'), (1, 'screenplay'), (1, 'scenario'), (1, 'saying'), (1, 'sags'), (1, 'romantic'), (1, 'romance'), (1, 'right'), (1, 'revelation'), (1, 'reunion'), (1, 'rest'), (1, 'responsible'), (1, 'respectful'), (1, 'remixes'), (1, 'reminded'), (1, 'remarkable'), (1, 'relish'), (1, 'relative'), (1, 'relationship'), (1, 'relates'), (1, 'relatable'), (1, 'reinvention'), (1, 'reflection'), (1, 'reflected'), (1, 'reflect'), (1, 'reckless'), (1, 'really'), (1, 'ranks'), (1, 'rank'), (1, 'ramps'), (1, 'rachel'), (1, 'quieter'), (1, 'qualified'), (1, 'putting'), (1, 'puts'), (1, 'pure'), (1, 'prowess'), (1, 'provides'), (1, 'proves'), (1, 'proven'), (1, 'prologue'), (1, 'problems'), (1, 'pretty'), (1, 'praise'), (1, 'potential'), (1, 'popping'), (1, 'polished'), (1, 'point'), (1, 'plastering'), (1, 'placed'), (1, 'pivotal'), (1, 'pieces'), (1, 'pictures'), (1, 'personality'), (1, 'personal'), (1, 'perhaps'), (1, 'performances'), (1, 'people'), (1, 'peerless'), (1, 'path'), (1, 'past'), (1, 'passionate'), (1, 'passion'), (1, 'parts'), (1, 'park'), (1, 'pale'), (1, 'page'), (1, 'pacing'), (1, 'overshadowing'), (1, 'other'), (1, 'or'), (1, 'observer'), (1, 'nuance'), (1, 'nshang'), (1, 'nods'), (1, 'nicely'), (1, 'nice'), (1, 'nhere'), (1, 'new'), (1, 'never'), (1, 'neglect'), (1, 'nearly'), (1, 'nare'), (1, 'nand'), (1, 'myself'), (1, 'my'), (1, 'multiple'), (1, 'muddle'), (1, 'motion'), (1, 'moment'), (1, 'mold'), (1, 'mixture'), (1, 'mitigate'), (1, 'missing'), (1, 'millennial'), (1, 'mile'), (1, 'middle'), (1, 'merely'), (1, 'meng'), (1, 'may'), (1, 'material'), (1, 'maneuver'), (1, 'major'), (1, 'main'), (1, 'magnetic'), (1, 'love'), (1, 'lost'), (1, 'looks'), (1, 'life'), (1, 'li'), (1, 'level'), (1, 'lesser'), (1, 'led'), (1, 'leads'), (1, 'layered'), (1, 'later'), (1, 'lately'), (1, 'last'), (1, 'lanham'), (1, 'landing'), (1, 'labonte'), (1, 'knows'), (1, 'known'), (1, 'knocks'), (1, 'katz'), (1, 'justice'), (1, 'journeys'), (1, 'jonesing'), (1, 'jokes'), (1, 'joins'), (1, 'jasin'), (1, 'jackie'), (1, 'iv'), (1, 'issues'), (1, 'iron'), (1, 'involved'), (1, 'invested'), (1, 'introduction'), (1, 'international'), (1, 'instantly'), (1, 'installments'), (1, 'insistently'), (1, 'inject'), (1, 'inherited'), (1, 'infuses'), (1, 'information'), (1, 'infinity'), (1, 'infectious'), (1, 'individual'), (1, 'includes'), (1, 'impressive'), (1, 'importance'), (1, 'imperatives'), (1, 'imitations'), (1, 'imitation'), (1, 'however'), (1, 'horse'), (1, 'history'), (1, 'him'), (1, 'high'), (1, 'hidden'), (1, 'helps'), (1, 'heavy'), (1, 'heart'), (1, 'hear'), (1, 'happy'), (1, 'handsome'), (1, 'handled'), (1, 'handle'), (1, 'hailing'), (1, 'guy'), (1, 'grounded'), (1, 'grierson'), (1, 'granted'), (1, 'grandeur'), (1, 'given'), (1, 'get'), (1, 'general'), (1, 'fun'), (1, 'fronts'), (1, 'fresh'), (1, 'franchises'), (1, 'four'), (1, 'forgivable'), (1, 'forges'), (1, 'flick'), (1, 'flaws'), (1, 'flavor'), (1, 'finicky'), (1, 'finest'), (1, 'finale'), (1, 'fighting'), (1, 'fighters'), (1, 'felt'), (1, 'feeling'), (1, 'favorites'), (1, 'farewell'), (1, 'fantastical'), (1, 'fantasia'), (1, 'fan'), (1, 'falls'), (1, 'fairy'), (1, 'faces'), (1, 'expresses'), (1, 'exposition'), (1, 'expands'), (1, 'expanded'), (1, 'exist'), (1, 'exceptional'), (1, 'eric'), (1, 'entries'), (1, 'ensures'), (1, 'enjoyed'), (1, 'enjoyable'), (1, 'energy'), (1, 'energized'), (1, 'ended'), (1, 'employs'), (1, 'emotional'), (1, 'emotion'), (1, 'embracing'), (1, 'elevated'), (1, 'elements'), (1, 'eisenberg'), (1, 'effortlessly'), (1, 'effortless'), (1, 'drop'), (1, 'dressing'), (1, 'dreaded'), (1, 'drawing'), (1, 'down'), (1, 'doesn'), (1, 'dives'), (1, 'diversity'), (1, 'distinct'), (1, 'discovery'), (1, 'discarded'), (1, 'disappointing'), (1, 'directs'), (1, 'direction'), (1, 'dimensional'), (1, 'diaspora'), (1, 'devised'), (1, 'devastatingly'), (1, 'details'), (1, 'destin'), (1, 'despite'), (1, 'designs'), (1, 'design'), (1, 'descent'), (1, 'descends'), (1, 'derby'), (1, 'depths'), (1, 'depicted'), (1, 'department'), (1, 'demolition'), (1, 'delivering'), (1, 'deep'), (1, 'dave'), (1, 'dark'), (1, 'danielle'), (1, 'daniel'), (1, 'credit'), (1, 'creature'), (1, 'cranks'), (1, 'could'), (1, 'core'), (1, 'convoluted'), (1, 'conveys'), (1, 'concern'), (1, 'complaints'), (1, 'compelling'), (1, 'comments'), (1, 'comes'), (1, 'coherent'), (1, 'clunky'), (1, 'closer'), (1, 'christopher'), (1, 'choreography'), (1, 'cheek'), (1, 'charts'), (1, 'charming'), (1, 'charm'), (1, 'charismatic'), (1, 'charisma'), (1, 'characters'), (1, 'cg'), (1, 'certainly'), (1, 'cast'), (1, 'carry'), (1, 'carefree'), (1, 'candy'), (1, 'campbell'), (1, 'calling'), (1, 'callaham'), (1, 'breaks'), (1, 'brandon'), (1, 'brand'), (1, 'both'), (1, 'boot'), (1, 'bombast'), (1, 'boland'), (1, 'boast'), (1, 'blessedly'), (1, 'blend'), (1, 'black'), (1, 'bit'), (1, 'biggest'), (1, 'beyond'), (1, 'between'), (1, 'believability'), (1, 'being'), (1, 'begin'), (1, 'bed'), (1, 'beautiful'), (1, 'battle'), (1, 'basic'), (1, 'ballet'), (1, 'badass'), (1, 'bad'), (1, 'awareness'), (1, 'authenticity'), (1, 'august'), (1, 'audience'), (1, 'attention'), (1, 'attempt'), (1, 'atlantic'), (1, 'around'), (1, 'appropriately'), (1, 'appeal'), (1, 'antagonists'), (1, 'anonymous'), (1, 'andrew'), (1, 'anchors'), (1, 'americans'), (1, 'ambitions'), (1, 'amazing'), (1, 'always'), (1, 'almost'), (1, 'allowed'), (1, 'allow'), (1, 'all'), (1, 'affair'), (1, 'aesthetically'), (1, 'adding'), (1, 'adaptations'), (1, 'actual'), (1, 'actors'), (1, 'across'), (1, 'absolutely'), (1, 'abounds'), (1, 'abandon'), (1, '8230'), (1, '40'), (1, '23'), (1, '2021'), (1, '')]\n"
     ]
    }
   ],
   "source": [
    "def sortDictionary(counted_words):\n",
    "    aux = [(counted_words[key], key) for key in counted_words]\n",
    "    aux.sort()\n",
    "    aux.reverse()\n",
    "    return aux\n",
    "\n",
    "counted_words = sortDictionary(counted_words)\n",
    "print(counted_words)"
   ]
  },
  {
   "cell_type": "code",
   "execution_count": 55,
   "metadata": {},
   "outputs": [
    {
     "name": "stdout",
     "output_type": "stream",
     "text": [
      "[(202, 'x80'), (68, 'x9d'), (68, '8211'), (41, 'to'), (39, 'xc2'), (36, 'chi'), (33, 'x99s'), (30, 'it'), (29, 'is'), (29, 'in'), (26, 'as'), (25, 'film'), (19, 'marvel'), (18, 'mcu'), (16, 'for'), (15, 'its'), (15, 'best'), (14, 'with'), (13, 'xa0shang'), (13, 'x9cthe'), (13, 'action'), (12, 'xa6'), (12, 'x9cshang'), (12, 'one'), (10, 'shang'), (10, 'asian'), (9, 'on'), (9, 'most'), (9, 'more'), (9, 'com'), (9, 'but'), (9, 'are'), (8, 'zhang'), (8, 'tran'), (8, 'that'), (8, 'slashfilm'), (8, 'movie'), (8, 'hoai'), (8, 'bui'), (7, 'ten'), (7, 'strange'), (7, 'sirikul'), (7, 'rohan'), (7, 'rings'), (7, 'patel'), (7, 'nhow'), (7, 'magazine'), (7, 'like'), (7, 'legend'), (7, 'laura'), (7, 'jeffrey'), (7, 'has'), (7, 'harbors'), (7, 'empire'), (7, 'comicbookmovie'), (7, 'by'), (6, 'up'), (6, 'times'), (6, 'there'), (6, 'studios'), (6, 'see'), (6, 'hollywood'), (6, 'cinematic'), (6, 'be'), (6, 'at'), (5, 'villain'), (5, 'universe'), (5, 'than'), (5, 'so'), (5, 'scenes'), (5, 's'), (5, 'representation'), (5, 'origin'), (5, 'nguyen'), (5, 'much'), (5, 'many'), (5, 'manages'), (5, 'leung'), (5, 'his'), (5, 'go'), (5, 'first'), (5, 'cretton'), (5, 'character'), (5, 'an'), (4, 'yuen'), (4, 'you'), (4, 'xa0is'), (4, 'x99ve'), (4, 'what'), (4, 'we'), (4, 'wang'), (4, 'superhero'), (4, 'some'), (4, 'sequences'), (4, 'school'), (4, 'rob'), (4, 'photo'), (4, 'not'), (4, 'ndoes'), (4, 'nancy'), (4, 'los'), (4, 'justin'), (4, 'io9'), (4, 'into'), (4, 'inspired'), (4, 'have'), (4, 'from'), (4, 'films'), (4, 'feels'), (4, 'do'), (4, 'chang'), (4, 'beat'), (4, 'angeles'), (4, 'act'), (4, 'about'), (4, '8217'), (3, 'yet'), (3, 'years'), (3, 'xialing'), (3, 'xa9marvel'), (3, 'x9cone'), (3, 'x9cit'), (3, 'x9cawkwafina'), (3, 'x9cas'), (3, 'x99t'), (3, 'wuxia'), (3, 'women'), (3, 'which'), (3, 'two'), (3, 'too'), (3, 'this'), (3, 'third'), (3, 'they'), (3, 'therese'), (3, 'story'), (3, 'stories'), (3, 'still'), (3, 'she'), (3, 'set'), (3, 'script'), (3, 'screen'), (3, 'reporter'), (3, 'rejects'), (3, 'performance'), (3, 'own'), (3, 'out'), (3, 'only'), (3, 'online'), (3, 'moments'), (3, 'might'), (3, 'me'), (3, 'martial'), (3, 'making'), (3, 'live'), (3, 'liu'), (3, 'le'), (3, 'lacson'), (3, 'keep'), (3, 'kate'), (3, 'just'), (3, 'jumpcut'), (3, 'influences'), (3, 'indiewire'), (3, 'if'), (3, 'i'), (3, 'hunter'), (3, 'here'), (3, 'her'), (3, 'han'), (3, 'gives'), (3, 'future'), (3, 'full'), (3, 'franchise'), (3, 'fight'), (3, 'feel'), (3, 'family'), (3, 'experience'), (3, 'erbland'), (3, 'comic'), (3, 'cgi'), (3, 'been'), (3, 'backstory'), (3, 'arts'), (3, 'anything'), (3, 'angie'), (2, 'xa9'), (2, 'xa0presents'), (2, 'xa0black'), (2, 'xa0and'), (2, 'x9cthis'), (2, 'x9cliu'), (2, 'x9cleung'), (2, 'x9cin'), (2, 'x9che'), (2, 'x9cat'), (2, 'x9c'), (2, 'x99ll'), (2, 'x99'), (2, 'x94'), (2, 'x93'), (2, 'widow'), (2, 'who'), (2, 'when'), (2, 'well'), (2, 'waititi'), (2, 'very'), (2, 'tony'), (2, 'themes'), (2, 'taika'), (2, 'ta'), (2, 'such'), (2, 'struggles'), (2, 'strong'), (2, 'solo'), (2, 'self'), (2, 'seen'), (2, 'say'), (2, 'role'), (2, 'rogerebert'), (2, 'reviews'), (2, 'real'), (2, 'ragnarok'), (2, 'quite'), (2, 'puentes'), (2, 'pop'), (2, 'plays'), (2, 'phase'), (2, 'patricia'), (2, 'particularly'), (2, 'particular'), (2, 'panther'), (2, 'over'), (2, 'our'), (2, 'ones'), (2, 'often'), (2, 'offer'), (2, 'off'), (2, 'nwill'), (2, 'nwhat'), (2, 'nryan'), (2, 'no'), (2, 'nis'), (2, 'nick'), (2, 'myth'), (2, 'muddled'), (2, 'movies'), (2, 'monji'), (2, 'maybe'), (2, 'man'), (2, 'makes'), (2, 'make'), (2, 'look'), (2, 'long'), (2, 'lo'), (2, 'levity'), (2, 'leftovers'), (2, 'least'), (2, 'large'), (2, 'journey'), (2, 'jon'), (2, 'jana'), (2, 'isn'), (2, 'humor'), (2, 'how'), (2, 'hero'), (2, 'he'), (2, 'had'), (2, 'grief'), (2, 'greatest'), (2, 'gorgeous'), (2, 'geek'), (2, 'funny'), (2, 'fujitani'), (2, 'frederick'), (2, 'flickering'), (2, 'final'), (2, 'few'), (2, 'father'), (2, 'fantastic'), (2, 'fans'), (2, 'familiar'), (2, 'eye'), (2, 'excited'), (2, 'ever'), (2, 'even'), (2, 'enough'), (2, 'dragon'), (2, 'does'), (2, 'disney'), (2, 'director'), (2, 'delivers'), (2, 'date'), (2, 'culture'), (2, 'critics'), (2, 'critical'), (2, 'country'), (2, 'comedy'), (2, 'come'), (2, 'cinema'), (2, 'chan'), (2, 'bright'), (2, 'brian'), (2, 'book'), (2, 'blockbuster'), (2, 'better'), (2, 'before'), (2, 'becomes'), (2, 'because'), (2, 'awkwafina'), (2, 'ask'), (2, 'any'), (2, 'another'), (2, 'american'), (2, 'also'), (2, 'allen'), (2, 'age'), (1, 'your'), (1, 'yeoh'), (1, 'xa0thor'), (1, 'xa0the'), (1, 'xa0seems'), (1, 'xa0on'), (1, 'xa0in'), (1, 'xa0from'), (1, 'xa0does'), (1, 'xa0crouching'), (1, 'xa0barely'), (1, 'xa0are'), (1, 'xa0'), (1, 'x9czhang'), (1, 'x9cyou'), (1, 'x9cwould'), (1, 'x9cwait'), (1, 'x9ctony'), (1, 'x9cthough'), (1, 'x9cthey'), (1, 'x9cthere'), (1, 'x9csimu'), (1, 'x9cmichelle'), (1, 'x9cmarvel'), (1, 'x9ci'), (1, 'x9chis'), (1, 'x9cgiven'), (1, 'x9cgetting'), (1, 'x9ccultural'), (1, 'x9cblack'), (1, 'x99m'), (1, 'x99er'), (1, 'x99d'), (1, 'x98villain'), (1, 'x98s'), (1, 'x98funnywoman'), (1, 'writ'), (1, 'would'), (1, 'worst'), (1, 'worse'), (1, 'world'), (1, 'work'), (1, 'wonderful'), (1, 'wonder'), (1, 'wistful'), (1, 'winter'), (1, 'will'), (1, 'whole'), (1, 'while'), (1, 'where'), (1, 'wheel'), (1, 'wenwu'), (1, 'welcoming'), (1, 'weightless'), (1, 'weakness'), (1, 'way'), (1, 'watershed'), (1, 'watching'), (1, 'war'), (1, 'walt'), (1, 'vital'), (1, 'visually'), (1, 'villains'), (1, 'view'), (1, 'victim'), (1, 'versus'), (1, 'verges'), (1, 'veers'), (1, 've'), (1, 'vacation'), (1, 'use'), (1, 'us'), (1, 'until'), (1, 'unspool'), (1, 'unlike'), (1, 'unique'), (1, 'uninspired'), (1, 'unfortunate'), (1, 'understated'), (1, 'uncharacteristic'), (1, 'unadulterated'), (1, 'typical'), (1, 'truly'), (1, 'trope'), (1, 'toward'), (1, 'tons'), (1, 'tongue'), (1, 'tiring'), (1, 'tipping'), (1, 'tim'), (1, 'tiger'), (1, 'throughout'), (1, 'those'), (1, 'thor'), (1, 'thing'), (1, 'these'), (1, 'them'), (1, 'their'), (1, 'theatrical'), (1, 'theaters'), (1, 'thank'), (1, 'telegraphs'), (1, 'tedious'), (1, 'tale'), (1, 'takes'), (1, 'tad'), (1, 'swerve'), (1, 'surrogate'), (1, 'surprise'), (1, 'support'), (1, 'superheroes'), (1, 'successful'), (1, 'subtle'), (1, 'stylistically'), (1, 'style'), (1, 'stunning'), (1, 'studio'), (1, 'strongest'), (1, 'strides'), (1, 'straight'), (1, 'storytelling'), (1, 'stick'), (1, 'step'), (1, 'stellar'), (1, 'steamiest'), (1, 'standouts'), (1, 'sprawling'), (1, 'splash'), (1, 'spectacular'), (1, 'spectacle'), (1, 'speak'), (1, 'source'), (1, 'solzy'), (1, 'solzman'), (1, 'soldier'), (1, 'sized'), (1, 'simu'), (1, 'sidelines'), (1, 'shtick'), (1, 'show'), (1, 'should'), (1, 'shortcomings'), (1, 'shirley'), (1, 'shame'), (1, 'shakes'), (1, 'shading'), (1, 'sexiness'), (1, 'sexier'), (1, 'sex'), (1, 'serious'), (1, 'sensibility'), (1, 'sense'), (1, 'seems'), (1, 'screenwriters'), (1, 'screenrant'), (1, 'screenplay'), (1, 'scenario'), (1, 'saying'), (1, 'sags'), (1, 'romantic'), (1, 'romance'), (1, 'right'), (1, 'revelation'), (1, 'reunion'), (1, 'rest'), (1, 'responsible'), (1, 'respectful'), (1, 'remixes'), (1, 'reminded'), (1, 'remarkable'), (1, 'relish'), (1, 'relative'), (1, 'relationship'), (1, 'relates'), (1, 'relatable'), (1, 'reinvention'), (1, 'reflection'), (1, 'reflected'), (1, 'reflect'), (1, 'reckless'), (1, 'really'), (1, 'ranks'), (1, 'rank'), (1, 'ramps'), (1, 'rachel'), (1, 'quieter'), (1, 'qualified'), (1, 'putting'), (1, 'puts'), (1, 'pure'), (1, 'prowess'), (1, 'provides'), (1, 'proves'), (1, 'proven'), (1, 'prologue'), (1, 'problems'), (1, 'pretty'), (1, 'praise'), (1, 'potential'), (1, 'popping'), (1, 'polished'), (1, 'point'), (1, 'plastering'), (1, 'placed'), (1, 'pivotal'), (1, 'pieces'), (1, 'pictures'), (1, 'personality'), (1, 'personal'), (1, 'perhaps'), (1, 'performances'), (1, 'people'), (1, 'peerless'), (1, 'path'), (1, 'past'), (1, 'passionate'), (1, 'passion'), (1, 'parts'), (1, 'park'), (1, 'pale'), (1, 'page'), (1, 'pacing'), (1, 'overshadowing'), (1, 'other'), (1, 'or'), (1, 'observer'), (1, 'nuance'), (1, 'nshang'), (1, 'nods'), (1, 'nicely'), (1, 'nice'), (1, 'nhere'), (1, 'new'), (1, 'never'), (1, 'neglect'), (1, 'nearly'), (1, 'nare'), (1, 'nand'), (1, 'myself'), (1, 'multiple'), (1, 'muddle'), (1, 'motion'), (1, 'moment'), (1, 'mold'), (1, 'mixture'), (1, 'mitigate'), (1, 'missing'), (1, 'millennial'), (1, 'mile'), (1, 'middle'), (1, 'merely'), (1, 'meng'), (1, 'may'), (1, 'material'), (1, 'maneuver'), (1, 'major'), (1, 'main'), (1, 'magnetic'), (1, 'love'), (1, 'lost'), (1, 'looks'), (1, 'life'), (1, 'li'), (1, 'level'), (1, 'lesser'), (1, 'led'), (1, 'leads'), (1, 'layered'), (1, 'later'), (1, 'lately'), (1, 'last'), (1, 'lanham'), (1, 'landing'), (1, 'labonte'), (1, 'knows'), (1, 'known'), (1, 'knocks'), (1, 'katz'), (1, 'justice'), (1, 'journeys'), (1, 'jonesing'), (1, 'jokes'), (1, 'joins'), (1, 'jasin'), (1, 'jackie'), (1, 'iv'), (1, 'issues'), (1, 'iron'), (1, 'involved'), (1, 'invested'), (1, 'introduction'), (1, 'international'), (1, 'instantly'), (1, 'installments'), (1, 'insistently'), (1, 'inject'), (1, 'inherited'), (1, 'infuses'), (1, 'information'), (1, 'infinity'), (1, 'infectious'), (1, 'individual'), (1, 'includes'), (1, 'impressive'), (1, 'importance'), (1, 'imperatives'), (1, 'imitations'), (1, 'imitation'), (1, 'however'), (1, 'horse'), (1, 'history'), (1, 'him'), (1, 'high'), (1, 'hidden'), (1, 'helps'), (1, 'heavy'), (1, 'heart'), (1, 'hear'), (1, 'happy'), (1, 'handsome'), (1, 'handled'), (1, 'handle'), (1, 'hailing'), (1, 'guy'), (1, 'grounded'), (1, 'grierson'), (1, 'granted'), (1, 'grandeur'), (1, 'given'), (1, 'get'), (1, 'general'), (1, 'fun'), (1, 'fronts'), (1, 'fresh'), (1, 'franchises'), (1, 'four'), (1, 'forgivable'), (1, 'forges'), (1, 'flick'), (1, 'flaws'), (1, 'flavor'), (1, 'finicky'), (1, 'finest'), (1, 'finale'), (1, 'fighting'), (1, 'fighters'), (1, 'felt'), (1, 'feeling'), (1, 'favorites'), (1, 'farewell'), (1, 'fantastical'), (1, 'fantasia'), (1, 'fan'), (1, 'falls'), (1, 'fairy'), (1, 'faces'), (1, 'expresses'), (1, 'exposition'), (1, 'expands'), (1, 'expanded'), (1, 'exist'), (1, 'exceptional'), (1, 'eric'), (1, 'entries'), (1, 'ensures'), (1, 'enjoyed'), (1, 'enjoyable'), (1, 'energy'), (1, 'energized'), (1, 'ended'), (1, 'employs'), (1, 'emotional'), (1, 'emotion'), (1, 'embracing'), (1, 'elevated'), (1, 'elements'), (1, 'eisenberg'), (1, 'effortlessly'), (1, 'effortless'), (1, 'drop'), (1, 'dressing'), (1, 'dreaded'), (1, 'drawing'), (1, 'down'), (1, 'doesn'), (1, 'dives'), (1, 'diversity'), (1, 'distinct'), (1, 'discovery'), (1, 'discarded'), (1, 'disappointing'), (1, 'directs'), (1, 'direction'), (1, 'dimensional'), (1, 'diaspora'), (1, 'devised'), (1, 'devastatingly'), (1, 'details'), (1, 'destin'), (1, 'despite'), (1, 'designs'), (1, 'design'), (1, 'descent'), (1, 'descends'), (1, 'derby'), (1, 'depths'), (1, 'depicted'), (1, 'department'), (1, 'demolition'), (1, 'delivering'), (1, 'deep'), (1, 'dave'), (1, 'dark'), (1, 'danielle'), (1, 'daniel'), (1, 'credit'), (1, 'creature'), (1, 'cranks'), (1, 'could'), (1, 'core'), (1, 'convoluted'), (1, 'conveys'), (1, 'concern'), (1, 'complaints'), (1, 'compelling'), (1, 'comments'), (1, 'comes'), (1, 'coherent'), (1, 'clunky'), (1, 'closer'), (1, 'christopher'), (1, 'choreography'), (1, 'cheek'), (1, 'charts'), (1, 'charming'), (1, 'charm'), (1, 'charismatic'), (1, 'charisma'), (1, 'characters'), (1, 'cg'), (1, 'certainly'), (1, 'cast'), (1, 'carry'), (1, 'carefree'), (1, 'candy'), (1, 'campbell'), (1, 'calling'), (1, 'callaham'), (1, 'breaks'), (1, 'brandon'), (1, 'brand'), (1, 'both'), (1, 'boot'), (1, 'bombast'), (1, 'boland'), (1, 'boast'), (1, 'blessedly'), (1, 'blend'), (1, 'black'), (1, 'bit'), (1, 'biggest'), (1, 'beyond'), (1, 'between'), (1, 'believability'), (1, 'being'), (1, 'begin'), (1, 'bed'), (1, 'beautiful'), (1, 'battle'), (1, 'basic'), (1, 'ballet'), (1, 'badass'), (1, 'bad'), (1, 'awareness'), (1, 'authenticity'), (1, 'august'), (1, 'audience'), (1, 'attention'), (1, 'attempt'), (1, 'atlantic'), (1, 'around'), (1, 'appropriately'), (1, 'appeal'), (1, 'antagonists'), (1, 'anonymous'), (1, 'andrew'), (1, 'anchors'), (1, 'americans'), (1, 'ambitions'), (1, 'amazing'), (1, 'always'), (1, 'almost'), (1, 'allowed'), (1, 'allow'), (1, 'all'), (1, 'affair'), (1, 'aesthetically'), (1, 'adding'), (1, 'adaptations'), (1, 'actual'), (1, 'actors'), (1, 'across'), (1, 'absolutely'), (1, 'abounds'), (1, 'abandon'), (1, '8230'), (1, '40'), (1, '23'), (1, '2021'), (1, '')]\n"
     ]
    }
   ],
   "source": [
    "stopwords = ['a','n','the','my','review', 'of', 'xe2', 'and']\n",
    "def removeStopWords(split_string, stopwords):\n",
    "    return [w for w in split_string if w not in stopwords]\n",
    "split_string = removeStopWords(split_string, stopwords)\n",
    "counted_words = wordsToDictionary(split_string)\n",
    "counted_words = sortDictionary(counted_words)\n",
    "print(counted_words)"
   ]
  }
 ],
 "metadata": {
  "kernelspec": {
   "display_name": "Python 3.8.8 64-bit ('base': conda)",
   "name": "python388jvsc74a57bd081406bfb4a0df296520439dbeeb6cb234f05909e99c5846f7ab3626eb610afcd"
  },
  "language_info": {
   "codemirror_mode": {
    "name": "ipython",
    "version": 3
   },
   "file_extension": ".py",
   "mimetype": "text/x-python",
   "name": "python",
   "nbconvert_exporter": "python",
   "pygments_lexer": "ipython3",
   "version": "3.8.8"
  },
  "orig_nbformat": 2
 },
 "nbformat": 4,
 "nbformat_minor": 2
}