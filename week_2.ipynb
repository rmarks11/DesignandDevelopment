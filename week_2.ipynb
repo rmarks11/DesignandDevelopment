{
 "cells": [
  {
   "cell_type": "code",
   "execution_count": 40,
   "metadata": {},
   "outputs": [
    {
     "data": {
      "text/plain": "True"
     },
     "execution_count": 40,
     "metadata": {},
     "output_type": "execute_result"
    }
   ],
   "source": [
    "# create a helloworld.html file in write mode\n",
    "f = open('helloworld.html','w')\n",
    "\n",
    "# initialize a variable and store a string of contents for our html file \n",
    "message = \"\"\"<html>\n",
    "<head></head>\n",
    "<body><p>Hello World!</p></body>\n",
    "</html>\"\"\"\n",
    "\n",
    "# overwriting html contents with our message \n",
    "f.write(message)\n",
    "\n",
    "# closing the file\n",
    "f.close()\n",
    "\n",
    "filename = 'file:///Users/Rachel/Documents/GitHub/DesignandDevelopment/helloworld.html'\n",
    "webbrowser.open_new_tab(filename)\n"
   ]
  },
  {
   "cell_type": "code",
   "execution_count": 7,
   "metadata": {},
   "outputs": [
    {
     "name": "stdout",
     "output_type": "stream",
     "text": [
      "b'\\n\\n\\n\\n\\n\\n<!DO'\n"
     ]
    }
   ],
   "source": [
    "#boilerplate code - set up convo with urls using a library\n",
    "import urllib.request, urllib.error, urllib.parse\n",
    "\n",
    "#setting up a URL - replace me! \n",
    "url = 'https://github.com/AMSUCF/Critical-Making-Syllabus/blob/main/syllabus.md'\n",
    "\n",
    "# boiler plate code for requesting a web page using a URL\n",
    "response = urllib.request.urlopen(url)\n",
    "webContent = response.read()\n",
    "\n",
    "print(webContent[0:10])"
   ]
  },
  {
   "cell_type": "code",
   "execution_count": 9,
   "metadata": {},
   "outputs": [],
   "source": [
    "url = 'https://github.com/AMSUCF/Critical-Making-Syllabus/blob/main/syllabus.md'\n",
    "\n",
    "#request webpage \n",
    "response = urllib.request.urlopen(url)\n",
    "webContent = response.read()\n",
    "\n",
    "#opening file \n",
    "f = open('demosyllabus.html', 'wb')\n",
    "f.write(webContent)\n",
    "f.close()"
   ]
  },
  {
   "cell_type": "code",
   "execution_count": 12,
   "metadata": {},
   "outputs": [
    {
     "name": "stdout",
     "output_type": "stream",
     "text": [
      "Hello again, world! :)\n",
      "Length: 22\n"
     ]
    }
   ],
   "source": [
    "# identifying and printing contents of string\n",
    "our_string = \"Hello again, world! :)\"\n",
    "print(our_string)\n",
    "\n",
    "# length - number of characters in string\n",
    "our_length = len(our_string)\n",
    "print(\"Length: \" + str(our_length))\n"
   ]
  },
  {
   "cell_type": "code",
   "execution_count": 17,
   "metadata": {},
   "outputs": [
    {
     "name": "stdout",
     "output_type": "stream",
     "text": [
      "Index of r: 15\n",
      "Occurences of l: 3\n",
      "Slice from index 3 to 8: lo ag\n"
     ]
    }
   ],
   "source": [
    "print(\"Index of r: \" + str(our_string.index(\"r\")))\n",
    "print(\"Occurences of l: \" + str(our_string.count(\"l\")))\n",
    "print(\"Slice from index 3 to 8: \" + our_string[3:8])"
   ]
  },
  {
   "cell_type": "code",
   "execution_count": 18,
   "metadata": {},
   "outputs": [
    {
     "name": "stdout",
     "output_type": "stream",
     "text": [
      "Upper case: HELLO AGAIN, WORLD! :)\n",
      "Lower case: hello again, world! :)\n"
     ]
    }
   ],
   "source": [
    "print(\"Upper case: \" + our_string.upper())\n",
    "print(\"Lower case: \" + our_string.lower())"
   ]
  },
  {
   "cell_type": "code",
   "execution_count": 19,
   "metadata": {},
   "outputs": [
    {
     "name": "stdout",
     "output_type": "stream",
     "text": [
      "): !dlrow ,niaga olleH\n"
     ]
    }
   ],
   "source": [
    "print(our_string[::-1])"
   ]
  },
  {
   "cell_type": "code",
   "execution_count": 25,
   "metadata": {},
   "outputs": [
    {
     "name": "stdout",
     "output_type": "stream",
     "text": [
      "world!\n"
     ]
    }
   ],
   "source": [
    "split_string = our_string.split(\" \")\n",
    "print(split_string[2])"
   ]
  },
  {
   "cell_type": "code",
   "execution_count": 28,
   "metadata": {},
   "outputs": [
    {
     "name": "stdout",
     "output_type": "stream",
     "text": [
      "True\n",
      "False\n"
     ]
    }
   ],
   "source": [
    "print(our_string.startswith(\"Hello\"))\n",
    "print(our_string.endswith(\"earth\"))"
   ]
  },
  {
   "cell_type": "code",
   "execution_count": 37,
   "metadata": {},
   "outputs": [
    {
     "name": "stdout",
     "output_type": "stream",
     "text": [
      "False\n",
      "True\n",
      "True\n"
     ]
    }
   ],
   "source": [
    "a = 2\n",
    "b = 3\n",
    "name = \"Ted\"\n",
    "age = 36\n",
    "print(a == b)\n",
    "print(a == 2)\n",
    "print(a < b)"
   ]
  },
  {
   "cell_type": "code",
   "execution_count": 38,
   "metadata": {},
   "outputs": [
    {
     "name": "stdout",
     "output_type": "stream",
     "text": [
      "Not a character.\n"
     ]
    }
   ],
   "source": [
    "flintstones = [\"Fred\",\"Wilma\",\"Pebbles\",\"Dino\"]\n",
    "rubbles = [\"Barney\",\"Betty\",\"Bamm-Bamm\",\"Hoppy\"]\n",
    "# checks two condition (name is Wilma and age is 35) only true if both are true\n",
    "if name == \"Wilma\" and age == 35:\n",
    "    print(\"Wilma verified.\")\n",
    "\n",
    "#checks two conditions and is true if at least on is true\n",
    "if name == \"Wilma\" or age == 35:\n",
    "    print(\"Possibly Wilma.\")\n",
    "\n",
    "# check if name exsists in array, true if it does\n",
    "# if name isn't in that thing, check if instead in rubbles \n",
    "# if it isn't in either thing, print not a character\n",
    "if name in flintstones:\n",
    "    print(\"Found Flintstone.\")\n",
    "elif name in rubbles:\n",
    "    print(\"Found Rubble.\")\n",
    "else:\n",
    "    print(\"Not a character.\")"
   ]
  }
 ],
 "metadata": {
  "kernelspec": {
   "display_name": "Python 3.8.8 64-bit ('base': conda)",
   "name": "python388jvsc74a57bd081406bfb4a0df296520439dbeeb6cb234f05909e99c5846f7ab3626eb610afcd"
  },
  "language_info": {
   "codemirror_mode": {
    "name": "ipython",
    "version": 3
   },
   "file_extension": ".py",
   "mimetype": "text/x-python",
   "name": "python",
   "nbconvert_exporter": "python",
   "pygments_lexer": "ipython3",
   "version": "3.8.8"
  },
  "orig_nbformat": 2
 },
 "nbformat": 4,
 "nbformat_minor": 2
}