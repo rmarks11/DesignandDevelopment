{
 "cells": [
  {
   "cell_type": "markdown",
   "metadata": {},
   "source": [
    "# Stage One: Import the libraries and Scrape your Page\n",
    "\n",
    "I started by importing the Beautiful Soup and Pandas libraries. I then chose to scrape user reviews of \"Sex Education\" Season 3 from Metacritic using Beautiful Soup. Note: I didn't realize this was such a small data set when I picked it, and this would work better with a larger dataset. "
   ]
  },
  {
   "cell_type": "code",
   "execution_count": 1,
   "metadata": {},
   "outputs": [],
   "source": [
    "import requests\n",
    "from bs4 import BeautifulSoup\n",
    "import pandas as pd"
   ]
  },
  {
   "cell_type": "code",
   "execution_count": 2,
   "metadata": {},
   "outputs": [],
   "source": [
    "url = 'https://www.metacritic.com/tv/sex-education/season-3/user-reviews'\n",
    "\n",
    "user_agent = {'User-agent': 'Mozilla/5.0'}\n",
    "response = requests.get(url, headers = user_agent)\n",
    "\n",
    "soup = BeautifulSoup(response.text, 'html.parser')"
   ]
  },
  {
   "cell_type": "markdown",
   "metadata": {},
   "source": [
    "# Stage Two: Define an Empty Dictionary Reflecting the Data Categories\n",
    "\n",
    "I then created a dictionary of reviews using the key terms \"name,\" \"date,\" \"rating,\" and \"review\" and created lists of those items. "
   ]
  },
  {
   "cell_type": "code",
   "execution_count": 3,
   "metadata": {},
   "outputs": [],
   "source": [
    "review_dict = {'name':[], 'date':[], 'rating':[], 'review':[]}"
   ]
  },
  {
   "cell_type": "markdown",
   "metadata": {},
   "source": [
    "# Stage Three: Loop through and Store Structured Data\n",
    "\n",
    "I am telling the program to skip any reviews that don't contain text, and pulling text out of the html file for each of the lists above. If the review starts with \"blurb blurb_expanded\" I grab the text after that. If the review starts with \"review_body\" but doesn't have the tag \"span\" that means the review doesn't contain text and should be skipped. Last, if the review starts with \"review_body\" followed by the \"span\" tag, I collect that text. "
   ]
  },
  {
   "cell_type": "code",
   "execution_count": 4,
   "metadata": {},
   "outputs": [
    {
     "name": "stdout",
     "output_type": "stream",
     "text": [
      "Sex Education used to be fun to watch for seasons 1 and 2. But season 3 had far too much pain and hopelessness and had entirely too many plot lines which made them shallow. I just finished watching Season 3, and I can't think of a single character that survived unscathed. It felt like Netflix borrowed writers from 13 Reasons Why...putting the fun, giddy, characters and actually twisting the plots to inflict such pain. I kept waiting for a suicide. It was too heavy and had way too many arguments and breakups. It list all the fun. Very disappointing.\n",
      "Amazing, emotional season 3. Watching the relationships of all these cool characters is insanely interesting and intriguing. And sad.. I'm really looking forward to continuing !\n",
      "The TV series keeps being dynamic, intelligent, enjoyable and just a highly recommended show period\n",
      "possessing outstanding quality or superior merit; remarkably good.\n",
      "With a raw and emotional beginning of this season, most of the characters have a good development throughout the whole show. Hope they continue at least with one more season and not ruining it with a movie which only purpose is to end a lot of stories in an hour and a half.\n",
      "Una de las mejores temporadas, el guion, las actuaciones, el desarrollo de personajes es increíble, se merece todo el éxito esta maravillosa serie.\n",
      "One of the best shows on TV now. However, like many other hit shows, once it made it past season one it really cut back on the nudity. (How everyone seems to have sex all the time while never getting naked is beyond me.)Still, great acting and storylines. The only downside is the networks idiotic decision that a \"season\" these days consists of a mere 8 episodes.\"Seasons\" used to be what, 26 episodes and often 1 or two extras like a Christmas episode.Soon we'll be lucky if a \"season\" has more than 1 new episode every 3 months.\n"
     ]
    }
   ],
   "source": [
    "for review in soup.find_all('div', class_='review_content'): \n",
    "    if review.find('div', class_='name') == None:\n",
    "        break \n",
    "    review_dict['name'].append(review.find('div', class_='name').find('a').text)\n",
    "    review_dict['date'].append(review.find('div', class_='date').text)\n",
    "    review_dict['rating'].append(review.find('div', class_='review_grade').find_all('div')[0].text)\n",
    "    if review.find('span', class_='blurb blurb_expanded'): \n",
    "        review_dict['review'].append(review.find('span', class_='blurb blurb_expanded').text)\n",
    "        print(review.find('span', class_='blurb blurb_expanded').text)\n",
    "    elif review.find('div',class_='review_body').find('span') == None:\n",
    "        review_dict['review'].append('No review text.')\n",
    "        print(\"No review\")\n",
    "    else:\n",
    "        review_dict['review'].append(review.find('div',class_='review_body').find('span').text)\n",
    "        print(review.find('div',class_='review_body').find('span').text)"
   ]
  },
  {
   "cell_type": "markdown",
   "metadata": {},
   "source": [
    "# Stage Four: Convert from Dictionary to DataFrame and Display\n",
    "\n",
    "Then, I am converting my scraped text, \"review_dict\" to a pandas dataframe, \"se3_reviews,\" turning the key words form the dictionary into the columns of my new dataframe. "
   ]
  },
  {
   "cell_type": "code",
   "execution_count": 5,
   "metadata": {},
   "outputs": [],
   "source": [
    "se3_reviews = pd.DataFrame(review_dict)"
   ]
  },
  {
   "cell_type": "code",
   "execution_count": 6,
   "metadata": {},
   "outputs": [
    {
     "data": {
      "text/html": "<div>\n<style scoped>\n    .dataframe tbody tr th:only-of-type {\n        vertical-align: middle;\n    }\n\n    .dataframe tbody tr th {\n        vertical-align: top;\n    }\n\n    .dataframe thead th {\n        text-align: right;\n    }\n</style>\n<table border=\"1\" class=\"dataframe\">\n  <thead>\n    <tr style=\"text-align: right;\">\n      <th></th>\n      <th>name</th>\n      <th>date</th>\n      <th>rating</th>\n      <th>review</th>\n    </tr>\n  </thead>\n  <tbody>\n    <tr>\n      <th>0</th>\n      <td>videogayme</td>\n      <td>Sep 22, 2021</td>\n      <td>1</td>\n      <td>Sex Education used to be fun to watch for seas...</td>\n    </tr>\n    <tr>\n      <th>1</th>\n      <td>RanGom007</td>\n      <td>Sep 18, 2021</td>\n      <td>10</td>\n      <td>Amazing, emotional season 3. Watching the rela...</td>\n    </tr>\n    <tr>\n      <th>2</th>\n      <td>Hades00</td>\n      <td>Sep 18, 2021</td>\n      <td>10</td>\n      <td>The TV series keeps being dynamic, intelligent...</td>\n    </tr>\n    <tr>\n      <th>3</th>\n      <td>MetacriticOnur</td>\n      <td>Sep 17, 2021</td>\n      <td>8</td>\n      <td>excellent\\r[ ek-suh-luhnt ]\\r adjective\\rposse...</td>\n    </tr>\n    <tr>\n      <th>4</th>\n      <td>PotterheadGleek</td>\n      <td>Sep 19, 2021</td>\n      <td>9</td>\n      <td>With a raw and emotional beginning of this sea...</td>\n    </tr>\n    <tr>\n      <th>5</th>\n      <td>Monster507</td>\n      <td>Sep 26, 2021</td>\n      <td>10</td>\n      <td>Una de las mejores temporadas, el guion, las a...</td>\n    </tr>\n    <tr>\n      <th>6</th>\n      <td>SiamHarleyRider</td>\n      <td>Sep 26, 2021</td>\n      <td>10</td>\n      <td>One of the best shows on TV now. However, like...</td>\n    </tr>\n  </tbody>\n</table>\n</div>",
      "text/plain": "              name          date rating  \\\n0       videogayme  Sep 22, 2021      1   \n1        RanGom007  Sep 18, 2021     10   \n2          Hades00  Sep 18, 2021     10   \n3   MetacriticOnur  Sep 17, 2021      8   \n4  PotterheadGleek  Sep 19, 2021      9   \n5       Monster507  Sep 26, 2021     10   \n6  SiamHarleyRider  Sep 26, 2021     10   \n\n                                              review  \n0  Sex Education used to be fun to watch for seas...  \n1  Amazing, emotional season 3. Watching the rela...  \n2  The TV series keeps being dynamic, intelligent...  \n3  excellent\\r[ ek-suh-luhnt ]\\r adjective\\rposse...  \n4  With a raw and emotional beginning of this sea...  \n5  Una de las mejores temporadas, el guion, las a...  \n6  One of the best shows on TV now. However, like...  "
     },
     "execution_count": 6,
     "metadata": {},
     "output_type": "execute_result"
    }
   ],
   "source": [
    "se3_reviews"
   ]
  },
  {
   "cell_type": "markdown",
   "metadata": {},
   "source": [
    "# Stage Five: Plot some Aspect of the Data\n",
    "\n",
    "I plotted the most common ratings of the show using a bar graph, revealing the most common rating of the show was \"10\" with 4 reviews, with \"8\" and \"9\" only having one review each but still being similarly high, and a very low outlier rating of \"1.\" As this new season receives more reviews, plotting these rankings and seeing patterns would become more interesting. "
   ]
  },
  {
   "cell_type": "code",
   "execution_count": 10,
   "metadata": {},
   "outputs": [
    {
     "data": {
      "text/plain": "<AxesSubplot:title={'center':'Most Common Ratings'}>"
     },
     "execution_count": 10,
     "metadata": {},
     "output_type": "execute_result"
    },
    {
     "data": {
      "image/png": "[encoded data removed]",
      "text/plain": "<Figure size 432x288 with 1 Axes>"
     },
     "metadata": {
      "needs_background": "light"
     },
     "output_type": "display_data"
    }
   ],
   "source": [
    "se3_reviews['rating'].value_counts().plot(kind=\"bar\", title=\"Most Common Ratings\")"
   ]
  }
 ],
 "metadata": {
  "kernelspec": {
   "display_name": "Python 3.8.8 64-bit ('base': conda)",
   "name": "python388jvsc74a57bd081406bfb4a0df296520439dbeeb6cb234f05909e99c5846f7ab3626eb610afcd"
  },
  "language_info": {
   "codemirror_mode": {
    "name": "ipython",
    "version": 3
   },
   "file_extension": ".py",
   "mimetype": "text/x-python",
   "name": "python",
   "nbconvert_exporter": "python",
   "pygments_lexer": "ipython3",
   "version": "3.8.8"
  },
  "orig_nbformat": 2
 },
 "nbformat": 4,
 "nbformat_minor": 2
}