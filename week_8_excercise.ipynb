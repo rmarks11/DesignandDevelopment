{
 "cells": [
  {
   "cell_type": "markdown",
   "metadata": {},
   "source": [
    "# Stage One: Import your selected structured CSV data \n",
    "\n",
    "I used the pandas library to import a data set showing the releases and ratings of Marvel vs. DC movies over time. Source: https://www.kaggle.com/leonardopena/marvel-vs-dc "
   ]
  },
  {
   "cell_type": "code",
   "execution_count": 1,
   "metadata": {},
   "outputs": [
    {
     "name": "stdout",
     "output_type": "stream",
     "text": [
      "Unnamed: 0               int64\n",
      "Original Title          object\n",
      "Company                 object\n",
      "Rate                   float64\n",
      "Metascore                int64\n",
      "Minutes                 object\n",
      "Release                  int64\n",
      "Budget                  object\n",
      "Opening Weekend USA      int64\n",
      "Gross�USA                int64\n",
      "Gross Worldwide          int64\n",
      "dtype: object\n"
     ]
    }
   ],
   "source": [
    "import pandas as pd\n",
    "df = pd.read_csv('marveldc.csv')\n",
    "print(df.dtypes)"
   ]
  },
  {
   "cell_type": "markdown",
   "metadata": {},
   "source": [
    "# Stage Two: Use Pandas to note any preliminary trends in the CSV as a dataframe\n",
    "\n",
    "I used pandas to emphasize certain aspects of the data frame, like the release year and company. I ran into some trouble with the structure of the dataset, because movies were chronological but grouped by company. Meaning, when I printed for release year, only Marvel movies came up in the first part of the dataset, and DC in the last part. I then showed movies released in the later years of the dataset (2017 and 2019), when movies became more frequent.  Most interestingly, I compared the average IMDB ratings of both companies, showing that Marvel movies were ranked higher overall by users. "
   ]
  },
  {
   "cell_type": "code",
   "execution_count": 25,
   "metadata": {},
   "outputs": [
    {
     "name": "stdout",
     "output_type": "stream",
     "text": [
      "                             Original Title Company\n",
      "Release                                            \n",
      "2008                               Iron Man  Marvel\n",
      "2008                    The Incredible Hulk  Marvel\n",
      "2010                             Iron Man 2  Marvel\n",
      "2011                                   Thor  Marvel\n",
      "2011     Captain America: The First Avenger  Marvel\n"
     ]
    }
   ],
   "source": [
    "print(df[['Original Title','Company']].head())"
   ]
  },
  {
   "cell_type": "code",
   "execution_count": 28,
   "metadata": {},
   "outputs": [
    {
     "data": {
      "text/html": "<div>\n<style scoped>\n    .dataframe tbody tr th:only-of-type {\n        vertical-align: middle;\n    }\n\n    .dataframe tbody tr th {\n        vertical-align: top;\n    }\n\n    .dataframe thead th {\n        text-align: right;\n    }\n</style>\n<table border=\"1\" class=\"dataframe\">\n  <thead>\n    <tr style=\"text-align: right;\">\n      <th></th>\n      <th>Unnamed: 0</th>\n      <th>Original Title</th>\n      <th>Company</th>\n      <th>Rate</th>\n      <th>Metascore</th>\n      <th>Minutes</th>\n      <th>Budget</th>\n      <th>Opening Weekend USA</th>\n      <th>Gross�USA</th>\n      <th>Gross Worldwide</th>\n    </tr>\n    <tr>\n      <th>Release</th>\n      <th></th>\n      <th></th>\n      <th></th>\n      <th></th>\n      <th></th>\n      <th></th>\n      <th></th>\n      <th></th>\n      <th></th>\n      <th></th>\n    </tr>\n  </thead>\n  <tbody>\n    <tr>\n      <th>2017</th>\n      <td>35</td>\n      <td>Wonder Woman</td>\n      <td>DC</td>\n      <td>7.4</td>\n      <td>76</td>\n      <td>141</td>\n      <td>149000000</td>\n      <td>103251471</td>\n      <td>412563408</td>\n      <td>821847012</td>\n    </tr>\n    <tr>\n      <th>2017</th>\n      <td>36</td>\n      <td>Justice League</td>\n      <td>DC</td>\n      <td>6.4</td>\n      <td>45</td>\n      <td>120</td>\n      <td>300000000</td>\n      <td>93842239</td>\n      <td>229024295</td>\n      <td>657924295</td>\n    </tr>\n    <tr>\n      <th>2018</th>\n      <td>37</td>\n      <td>Aquaman</td>\n      <td>DC</td>\n      <td>7.0</td>\n      <td>55</td>\n      <td>143</td>\n      <td>160000000</td>\n      <td>67873522</td>\n      <td>335061807</td>\n      <td>1148161807</td>\n    </tr>\n    <tr>\n      <th>2019</th>\n      <td>38</td>\n      <td>Shazam!</td>\n      <td>DC</td>\n      <td>7.1</td>\n      <td>71</td>\n      <td>132</td>\n      <td>100000000</td>\n      <td>53505326</td>\n      <td>140371656</td>\n      <td>364571656</td>\n    </tr>\n    <tr>\n      <th>2019</th>\n      <td>39</td>\n      <td>Joker</td>\n      <td>DC</td>\n      <td>8.7</td>\n      <td>59</td>\n      <td>122</td>\n      <td>55000000�</td>\n      <td>96202337</td>\n      <td>333204580</td>\n      <td>1060504580</td>\n    </tr>\n  </tbody>\n</table>\n</div>",
      "text/plain": "         Unnamed: 0  Original Title Company  Rate  Metascore Minutes  \\\nRelease                                                                \n2017             35    Wonder Woman      DC   7.4         76     141   \n2017             36  Justice League      DC   6.4         45     120   \n2018             37         Aquaman      DC   7.0         55     143   \n2019             38         Shazam!      DC   7.1         71     132   \n2019             39           Joker      DC   8.7         59     122   \n\n            Budget  Opening Weekend USA  Gross�USA  Gross Worldwide  \nRelease                                                              \n2017     149000000            103251471  412563408        821847012  \n2017     300000000             93842239  229024295        657924295  \n2018     160000000             67873522  335061807       1148161807  \n2019     100000000             53505326  140371656        364571656  \n2019     55000000�             96202337  333204580       1060504580  "
     },
     "execution_count": 28,
     "metadata": {},
     "output_type": "execute_result"
    }
   ],
   "source": [
    "df = pd.read_csv('marveldc.csv')\n",
    "df = df.set_index('Release')\n",
    "df.tail()"
   ]
  },
  {
   "cell_type": "code",
   "execution_count": 15,
   "metadata": {},
   "outputs": [
    {
     "data": {
      "text/html": "<div>\n<style scoped>\n    .dataframe tbody tr th:only-of-type {\n        vertical-align: middle;\n    }\n\n    .dataframe tbody tr th {\n        vertical-align: top;\n    }\n\n    .dataframe thead th {\n        text-align: right;\n    }\n</style>\n<table border=\"1\" class=\"dataframe\">\n  <thead>\n    <tr style=\"text-align: right;\">\n      <th></th>\n      <th>Unnamed: 0</th>\n      <th>Original Title</th>\n      <th>Company</th>\n      <th>Rate</th>\n      <th>Metascore</th>\n      <th>Minutes</th>\n      <th>Budget</th>\n      <th>Opening Weekend USA</th>\n      <th>Gross�USA</th>\n      <th>Gross Worldwide</th>\n    </tr>\n    <tr>\n      <th>Release</th>\n      <th></th>\n      <th></th>\n      <th></th>\n      <th></th>\n      <th></th>\n      <th></th>\n      <th></th>\n      <th></th>\n      <th></th>\n      <th></th>\n    </tr>\n  </thead>\n  <tbody>\n    <tr>\n      <th>2017</th>\n      <td>15</td>\n      <td>Guardians of the Galaxy Vol. 2</td>\n      <td>Marvel</td>\n      <td>7.6</td>\n      <td>67</td>\n      <td>136</td>\n      <td>200000000</td>\n      <td>146510104</td>\n      <td>389813101</td>\n      <td>863756051</td>\n    </tr>\n    <tr>\n      <th>2017</th>\n      <td>16</td>\n      <td>Spider-Man: Homecoming</td>\n      <td>Marvel</td>\n      <td>7.4</td>\n      <td>73</td>\n      <td>133</td>\n      <td>175000000�</td>\n      <td>117027503</td>\n      <td>334201140</td>\n      <td>880166924</td>\n    </tr>\n    <tr>\n      <th>2017</th>\n      <td>17</td>\n      <td>Thor:Ragnarok</td>\n      <td>Marvel</td>\n      <td>7.9</td>\n      <td>74</td>\n      <td>130</td>\n      <td>180000000</td>\n      <td>122744989</td>\n      <td>315058289</td>\n      <td>853977126</td>\n    </tr>\n    <tr>\n      <th>2017</th>\n      <td>35</td>\n      <td>Wonder Woman</td>\n      <td>DC</td>\n      <td>7.4</td>\n      <td>76</td>\n      <td>141</td>\n      <td>149000000</td>\n      <td>103251471</td>\n      <td>412563408</td>\n      <td>821847012</td>\n    </tr>\n    <tr>\n      <th>2017</th>\n      <td>36</td>\n      <td>Justice League</td>\n      <td>DC</td>\n      <td>6.4</td>\n      <td>45</td>\n      <td>120</td>\n      <td>300000000</td>\n      <td>93842239</td>\n      <td>229024295</td>\n      <td>657924295</td>\n    </tr>\n  </tbody>\n</table>\n</div>",
      "text/plain": "         Unnamed: 0                  Original Title Company  Rate  Metascore  \\\nRelease                                                                        \n2017             15  Guardians of the Galaxy Vol. 2  Marvel   7.6         67   \n2017             16          Spider-Man: Homecoming  Marvel   7.4         73   \n2017             17                   Thor:Ragnarok  Marvel   7.9         74   \n2017             35                    Wonder Woman      DC   7.4         76   \n2017             36                  Justice League      DC   6.4         45   \n\n        Minutes      Budget  Opening Weekend USA  Gross�USA  Gross Worldwide  \nRelease                                                                       \n2017        136   200000000            146510104  389813101        863756051  \n2017        133  175000000�            117027503  334201140        880166924  \n2017        130   180000000            122744989  315058289        853977126  \n2017        141   149000000            103251471  412563408        821847012  \n2017        120   300000000             93842239  229024295        657924295  "
     },
     "execution_count": 15,
     "metadata": {},
     "output_type": "execute_result"
    }
   ],
   "source": [
    "df.loc[2017]"
   ]
  },
  {
   "cell_type": "code",
   "execution_count": 27,
   "metadata": {},
   "outputs": [
    {
     "data": {
      "text/plain": "Release\n2019                Captain Marve\n2019            Avengers: Endgame\n2019    Spider-Man: Far from Home\n2019                      Shazam!\n2019                        Joker\nName: Original Title, dtype: object"
     },
     "execution_count": 27,
     "metadata": {},
     "output_type": "execute_result"
    }
   ],
   "source": [
    "df.loc[2019, 'Original Title']"
   ]
  },
  {
   "cell_type": "code",
   "execution_count": 13,
   "metadata": {},
   "outputs": [
    {
     "data": {
      "text/html": "<div>\n<style scoped>\n    .dataframe tbody tr th:only-of-type {\n        vertical-align: middle;\n    }\n\n    .dataframe tbody tr th {\n        vertical-align: top;\n    }\n\n    .dataframe thead th {\n        text-align: right;\n    }\n</style>\n<table border=\"1\" class=\"dataframe\">\n  <thead>\n    <tr style=\"text-align: right;\">\n      <th></th>\n      <th>Unnamed: 0</th>\n      <th>Original Title</th>\n      <th>Company</th>\n      <th>Rate</th>\n      <th>Metascore</th>\n      <th>Minutes</th>\n      <th>Budget</th>\n      <th>Opening Weekend USA</th>\n      <th>Gross�USA</th>\n      <th>Gross Worldwide</th>\n    </tr>\n    <tr>\n      <th>Release</th>\n      <th></th>\n      <th></th>\n      <th></th>\n      <th></th>\n      <th></th>\n      <th></th>\n      <th></th>\n      <th></th>\n      <th></th>\n      <th></th>\n    </tr>\n  </thead>\n  <tbody>\n    <tr>\n      <th>2004</th>\n      <td>24</td>\n      <td>Catwoman</td>\n      <td>DC</td>\n      <td>3.3</td>\n      <td>27</td>\n      <td>104</td>\n      <td>100000000</td>\n      <td>16728411</td>\n      <td>40202379</td>\n      <td>82102379</td>\n    </tr>\n    <tr>\n      <th>2005</th>\n      <td>25</td>\n      <td>Batman Begins</td>\n      <td>DC</td>\n      <td>8.2</td>\n      <td>70</td>\n      <td>140</td>\n      <td>150000000</td>\n      <td>48745440</td>\n      <td>206852432</td>\n      <td>373413297</td>\n    </tr>\n    <tr>\n      <th>2006</th>\n      <td>26</td>\n      <td>Superman Returns</td>\n      <td>DC</td>\n      <td>6.0</td>\n      <td>72</td>\n      <td>154</td>\n      <td>270000000</td>\n      <td>52535096</td>\n      <td>200081192</td>\n      <td>391081192</td>\n    </tr>\n    <tr>\n      <th>2008</th>\n      <td>27</td>\n      <td>The Dark Knight</td>\n      <td>DC</td>\n      <td>9.0</td>\n      <td>84</td>\n      <td>152</td>\n      <td>185000000</td>\n      <td>158411483</td>\n      <td>535234033</td>\n      <td>1004934033</td>\n    </tr>\n    <tr>\n      <th>2009</th>\n      <td>28</td>\n      <td>Watchmen</td>\n      <td>DC</td>\n      <td>7.6</td>\n      <td>56</td>\n      <td>162</td>\n      <td>130000000</td>\n      <td>55214334</td>\n      <td>107509799</td>\n      <td>185258983</td>\n    </tr>\n    <tr>\n      <th>2010</th>\n      <td>29</td>\n      <td>Jonah Hex�</td>\n      <td>DC</td>\n      <td>4.7</td>\n      <td>33</td>\n      <td>81</td>\n      <td>47000000�</td>\n      <td>5379365</td>\n      <td>10547117</td>\n      <td>10903312</td>\n    </tr>\n    <tr>\n      <th>2011</th>\n      <td>30</td>\n      <td>Green Lantern</td>\n      <td>DC</td>\n      <td>5.5</td>\n      <td>39</td>\n      <td>114</td>\n      <td>200000000</td>\n      <td>53174303</td>\n      <td>116601172</td>\n      <td>219851172</td>\n    </tr>\n    <tr>\n      <th>2012</th>\n      <td>31</td>\n      <td>The Dark Knight Rises</td>\n      <td>DC</td>\n      <td>8.4</td>\n      <td>78</td>\n      <td>164</td>\n      <td>250000000</td>\n      <td>160887295</td>\n      <td>448139099</td>\n      <td>1081041287</td>\n    </tr>\n    <tr>\n      <th>2013</th>\n      <td>32</td>\n      <td>Man of Steel</td>\n      <td>DC</td>\n      <td>7.1</td>\n      <td>55</td>\n      <td>143</td>\n      <td>225000000</td>\n      <td>116619362</td>\n      <td>291045518</td>\n      <td>668045518</td>\n    </tr>\n    <tr>\n      <th>2016</th>\n      <td>33</td>\n      <td>Batman v Superman: Dawn of Justice</td>\n      <td>DC</td>\n      <td>6.5</td>\n      <td>44</td>\n      <td>151</td>\n      <td>250000000</td>\n      <td>166007347</td>\n      <td>330360194</td>\n      <td>873634919</td>\n    </tr>\n    <tr>\n      <th>2016</th>\n      <td>34</td>\n      <td>Suicide Squad�</td>\n      <td>DC</td>\n      <td>6.0</td>\n      <td>40</td>\n      <td>123</td>\n      <td>175000000</td>\n      <td>133682248</td>\n      <td>325100054</td>\n      <td>746846894</td>\n    </tr>\n    <tr>\n      <th>2017</th>\n      <td>35</td>\n      <td>Wonder Woman</td>\n      <td>DC</td>\n      <td>7.4</td>\n      <td>76</td>\n      <td>141</td>\n      <td>149000000</td>\n      <td>103251471</td>\n      <td>412563408</td>\n      <td>821847012</td>\n    </tr>\n    <tr>\n      <th>2017</th>\n      <td>36</td>\n      <td>Justice League</td>\n      <td>DC</td>\n      <td>6.4</td>\n      <td>45</td>\n      <td>120</td>\n      <td>300000000</td>\n      <td>93842239</td>\n      <td>229024295</td>\n      <td>657924295</td>\n    </tr>\n    <tr>\n      <th>2018</th>\n      <td>37</td>\n      <td>Aquaman</td>\n      <td>DC</td>\n      <td>7.0</td>\n      <td>55</td>\n      <td>143</td>\n      <td>160000000</td>\n      <td>67873522</td>\n      <td>335061807</td>\n      <td>1148161807</td>\n    </tr>\n    <tr>\n      <th>2019</th>\n      <td>38</td>\n      <td>Shazam!</td>\n      <td>DC</td>\n      <td>7.1</td>\n      <td>71</td>\n      <td>132</td>\n      <td>100000000</td>\n      <td>53505326</td>\n      <td>140371656</td>\n      <td>364571656</td>\n    </tr>\n    <tr>\n      <th>2019</th>\n      <td>39</td>\n      <td>Joker</td>\n      <td>DC</td>\n      <td>8.7</td>\n      <td>59</td>\n      <td>122</td>\n      <td>55000000�</td>\n      <td>96202337</td>\n      <td>333204580</td>\n      <td>1060504580</td>\n    </tr>\n  </tbody>\n</table>\n</div>",
      "text/plain": "         Unnamed: 0                      Original Title Company  Rate  \\\nRelease                                                                 \n2004             24                            Catwoman      DC   3.3   \n2005             25                       Batman Begins      DC   8.2   \n2006             26                    Superman Returns      DC   6.0   \n2008             27                     The Dark Knight      DC   9.0   \n2009             28                            Watchmen      DC   7.6   \n2010             29                          Jonah Hex�      DC   4.7   \n2011             30                       Green Lantern      DC   5.5   \n2012             31               The Dark Knight Rises      DC   8.4   \n2013             32                        Man of Steel      DC   7.1   \n2016             33  Batman v Superman: Dawn of Justice      DC   6.5   \n2016             34                      Suicide Squad�      DC   6.0   \n2017             35                        Wonder Woman      DC   7.4   \n2017             36                      Justice League      DC   6.4   \n2018             37                             Aquaman      DC   7.0   \n2019             38                             Shazam!      DC   7.1   \n2019             39                               Joker      DC   8.7   \n\n         Metascore Minutes     Budget  Opening Weekend USA  Gross�USA  \\\nRelease                                                                 \n2004            27     104  100000000             16728411   40202379   \n2005            70     140  150000000             48745440  206852432   \n2006            72     154  270000000             52535096  200081192   \n2008            84     152  185000000            158411483  535234033   \n2009            56     162  130000000             55214334  107509799   \n2010            33      81  47000000�              5379365   10547117   \n2011            39     114  200000000             53174303  116601172   \n2012            78     164  250000000            160887295  448139099   \n2013            55     143  225000000            116619362  291045518   \n2016            44     151  250000000            166007347  330360194   \n2016            40     123  175000000            133682248  325100054   \n2017            76     141  149000000            103251471  412563408   \n2017            45     120  300000000             93842239  229024295   \n2018            55     143  160000000             67873522  335061807   \n2019            71     132  100000000             53505326  140371656   \n2019            59     122  55000000�             96202337  333204580   \n\n         Gross Worldwide  \nRelease                   \n2004            82102379  \n2005           373413297  \n2006           391081192  \n2008          1004934033  \n2009           185258983  \n2010            10903312  \n2011           219851172  \n2012          1081041287  \n2013           668045518  \n2016           873634919  \n2016           746846894  \n2017           821847012  \n2017           657924295  \n2018          1148161807  \n2019           364571656  \n2019          1060504580  "
     },
     "execution_count": 13,
     "metadata": {},
     "output_type": "execute_result"
    }
   ],
   "source": [
    "company = df.groupby('Company')\n",
    "company.get_group('DC')"
   ]
  },
  {
   "cell_type": "code",
   "execution_count": 7,
   "metadata": {},
   "outputs": [
    {
     "data": {
      "text/plain": "Company\nDC        6.806250\nMarvel    7.478261\nName: Rate, dtype: float64"
     },
     "execution_count": 7,
     "metadata": {},
     "output_type": "execute_result"
    }
   ],
   "source": [
    "company['Rate'].mean()"
   ]
  },
  {
   "cell_type": "markdown",
   "metadata": {},
   "source": [
    "# Stage Three: Use \"group by\" to break down at least two different subsets of data\n",
    "\n",
    "I grouped the dataset by release year and company, to show trends over time of how many movies each company released, showing an upward trend in how many movies the companies released as time went on. "
   ]
  },
  {
   "cell_type": "code",
   "execution_count": 17,
   "metadata": {},
   "outputs": [
    {
     "data": {
      "text/plain": "Release  Company\n2004     DC         1\n2005     DC         1\n2006     DC         1\n2008     DC         1\n         Marvel     2\n2009     DC         1\n2010     DC         1\n         Marvel     1\n2011     DC         1\n         Marvel     2\n2012     DC         1\n         Marvel     1\n2013     DC         1\n         Marvel     2\n2014     Marvel     2\n2015     Marvel     2\n2016     DC         2\n         Marvel     2\n2017     DC         2\n         Marvel     3\n2018     DC         1\n         Marvel     3\n2019     DC         2\n         Marvel     3\nName: Original Title, dtype: int64"
     },
     "execution_count": 17,
     "metadata": {},
     "output_type": "execute_result"
    }
   ],
   "source": [
    "company_comparison = df.groupby(['Release','Company'])['Original Title'].count()\n",
    "company_comparison"
   ]
  },
  {
   "cell_type": "markdown",
   "metadata": {},
   "source": [
    "# Stage Five: Use one additional form of analysis or visualization from any we've tried so far\n",
    "\n",
    "Continuing my work from the previous stage, I visualized this upward trend in movie releases and showed the increase in movie releases by comic book companies from 2004-2019. As a note, I would have liked to do some sort of visualization of the movies ratings. However, since ratings are specific to the decimal point, there were too many datapoints and it was hard to show trends. "
   ]
  },
  {
   "cell_type": "code",
   "execution_count": 18,
   "metadata": {},
   "outputs": [
    {
     "data": {
      "text/plain": "Company\nDC        AxesSubplot(0.125,0.125;0.775x0.755)\nMarvel    AxesSubplot(0.125,0.125;0.775x0.755)\nName: Original Title, dtype: object"
     },
     "execution_count": 18,
     "metadata": {},
     "output_type": "execute_result"
    },
    {
     "data": {
      "image/png": "[encoded data removed]",
      "text/plain": "<Figure size 432x288 with 1 Axes>"
     },
     "metadata": {
      "needs_background": "light"
     },
     "output_type": "display_data"
    }
   ],
   "source": [
    "company_comparison.groupby(['Company']).plot(legend=True)"
   ]
  }
 ],
 "metadata": {
  "kernelspec": {
   "display_name": "Python 3.8.8 64-bit ('base': conda)",
   "name": "python388jvsc74a57bd081406bfb4a0df296520439dbeeb6cb234f05909e99c5846f7ab3626eb610afcd"
  },
  "language_info": {
   "codemirror_mode": {
    "name": "ipython",
    "version": 3
   },
   "file_extension": ".py",
   "mimetype": "text/x-python",
   "name": "python",
   "nbconvert_exporter": "python",
   "pygments_lexer": "ipython3",
   "version": "3.8.8"
  },
  "orig_nbformat": 2
 },
 "nbformat": 4,
 "nbformat_minor": 2
}