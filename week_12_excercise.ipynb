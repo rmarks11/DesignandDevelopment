{
 "cells": [
  {
   "cell_type": "markdown",
   "source": [
    "# Stage One: Collect and import ten documents\n",
    "\n",
    "This is a continuation of my work from last week, where I used the AO3 scraper (https://github.com/radiolarian/AO3Scraper) to create a .csv of ten fanfiction texts and then used pandas to isolate the titles and body of the csv. I then used the titles to name the files, created files from the body text, and gethered them into a folder. "
   ],
   "metadata": {}
  },
  {
   "cell_type": "code",
   "execution_count": 3,
   "source": [
    "import pandas as pd\n",
    "df = pd.read_csv('falcon.csv')\n",
    "for index, data in df[[\"title\", \"body\"]].iterrows():\n",
    "    outname = \"texts/\" + data[\"title\"] + \".txt\"\n",
    "    with open(outname, 'w', errors=\"replace\") as out:\n",
    "        out.write(data[\"body\"])"
   ],
   "outputs": [],
   "metadata": {}
  },
  {
   "cell_type": "markdown",
   "source": [
    "# Stage Two: Using the topic modeling code as a starter, build a topic model of the documents\n",
    "\n",
    "I imported os and numpy, directed to my new texts folder, counted the files in the corpus, and printed the file names. I then imported sci-kit learn and defined a document term matrix. I defined a number of topics and ensured it could be fit into the model. I then creared a dataframe with a column for every term in my document term matrix, and a row for each topic. I then printed a sample of the highest values terms from one of the topics. I then created a data frame of the distribution of topics in each document. I then created a word cloud from Topic 2 and displayed it. "
   ],
   "metadata": {}
  },
  {
   "cell_type": "code",
   "execution_count": 4,
   "source": [
    "import os\n",
    "import numpy as np\n",
    "\n",
    "documents = []\n",
    "path = 'texts/'\n",
    "\n",
    "filenames=sorted([os.path.join(path, fn) for fn in os.listdir(path)])\n",
    "print(len(filenames)) \n",
    "print(filenames[:10])"
   ],
   "outputs": [
    {
     "output_type": "stream",
     "name": "stdout",
     "text": [
      "10\n",
      "['texts/Between Technology, Magic and Death.txt', 'texts/Marriage Counseling for the Inept and Oblivious.txt', 'texts/My Two Front Teef.txt', 'texts/Skip, Reverse.txt', 'texts/The Gottman Method for Dealing with Conflict.txt', 'texts/Vacant Mirrors.txt', 'texts/come with me to somewhere new.txt', 'texts/diving blind.txt', 'texts/double dare.txt', \"texts/just won't do right.txt\"]\n"
     ]
    }
   ],
   "metadata": {}
  },
  {
   "cell_type": "code",
   "execution_count": 5,
   "source": [
    "import sklearn.feature_extraction.text as text\n",
    "\n",
    "vectorizer=text.CountVectorizer(input='filename', stop_words=\"english\", min_df=1)\n",
    "dtm=vectorizer.fit_transform(filenames).toarray() \n",
    "\n",
    "vocab=np.array(vectorizer.get_feature_names())"
   ],
   "outputs": [],
   "metadata": {}
  },
  {
   "cell_type": "code",
   "execution_count": 6,
   "source": [
    "print(f'Shape of document-term matrix: {dtm.shape}. '\n",
    "      f'Number of tokens {dtm.sum()}')"
   ],
   "outputs": [
    {
     "output_type": "stream",
     "name": "stdout",
     "text": [
      "Shape of document-term matrix: (10, 14897). Number of tokens 139649\n"
     ]
    }
   ],
   "metadata": {}
  },
  {
   "cell_type": "code",
   "execution_count": 7,
   "source": [
    "import sklearn.decomposition as decomposition\n",
    "model = decomposition.LatentDirichletAllocation(\n",
    "    n_components=100, learning_method='online', random_state=1)"
   ],
   "outputs": [],
   "metadata": {}
  },
  {
   "cell_type": "code",
   "execution_count": 8,
   "source": [
    "document_topic_distributions = model.fit_transform(dtm)"
   ],
   "outputs": [],
   "metadata": {}
  },
  {
   "cell_type": "code",
   "execution_count": 9,
   "source": [
    "vocabulary = vectorizer.get_feature_names()\n",
    "assert model.components_.shape == (100, len(vocabulary))\n",
    "assert document_topic_distributions.shape == (dtm.shape[0], 100)"
   ],
   "outputs": [],
   "metadata": {}
  },
  {
   "cell_type": "code",
   "execution_count": 10,
   "source": [
    "topic_names = [f'Topic {k}' for k in range(100)]\n",
    "topic_word_distributions = pd.DataFrame(\n",
    "    model.components_, columns=vocabulary, index=topic_names)\n",
    "print(topic_word_distributions)"
   ],
   "outputs": [
    {
     "output_type": "stream",
     "name": "stdout",
     "text": [
      "                00       000       001       002       003       004  \\\n",
      "Topic 0   0.237354  0.192613  0.193687  0.183563  0.240142  0.189307   \n",
      "Topic 1   0.194107  0.211293  0.225390  0.197431  0.192878  0.179416   \n",
      "Topic 2   0.211007  0.205029  0.185801  0.214297  0.210515  0.187434   \n",
      "Topic 3   0.216145  0.220024  0.210610  0.232974  0.212151  0.199982   \n",
      "Topic 4   0.225881  0.181110  0.197641  0.248968  0.213114  0.199261   \n",
      "...            ...       ...       ...       ...       ...       ...   \n",
      "Topic 95  0.229426  0.213044  0.220292  0.204179  0.221758  0.184067   \n",
      "Topic 96  0.229644  0.216388  0.232584  0.189452  0.200130  0.208707   \n",
      "Topic 97  0.211588  0.196273  0.209774  0.196296  0.234489  0.201328   \n",
      "Topic 98  0.231191  0.233200  0.210413  0.177161  0.189181  0.161103   \n",
      "Topic 99  0.203171  0.167964  0.195564  0.178284  0.187613  0.241144   \n",
      "\n",
      "               005       006       007       008  ...   zipping      zola  \\\n",
      "Topic 0   0.233985  0.166160  0.227395  0.183159  ...  0.164421  0.183443   \n",
      "Topic 1   0.228323  0.235090  0.214214  0.225661  ...  0.207865  0.203681   \n",
      "Topic 2   0.204243  0.203377  0.210171  0.197209  ...  0.223046  0.236426   \n",
      "Topic 3   0.196961  0.199209  0.207514  0.214435  ...  0.202313  0.160023   \n",
      "Topic 4   0.237956  0.172430  0.227955  0.188556  ...  0.195426  0.200608   \n",
      "...            ...       ...       ...       ...  ...       ...       ...   \n",
      "Topic 95  0.220259  0.225914  0.205883  0.197454  ...  0.224522  0.210917   \n",
      "Topic 96  0.192618  0.203286  0.196542  0.201555  ...  0.206012  0.198255   \n",
      "Topic 97  0.215006  0.181698  0.194203  0.165532  ...  0.197555  0.194316   \n",
      "Topic 98  0.193790  0.232551  0.212026  0.237027  ...  0.213060  0.178443   \n",
      "Topic 99  0.181893  0.251409  0.256980  0.196137  ...  0.232279  0.216027   \n",
      "\n",
      "            zombie  zombified      zone     zones       zoo      zoom  \\\n",
      "Topic 0   0.199888   0.215245  0.192692  0.215958  0.229924  0.201533   \n",
      "Topic 1   0.226951   0.199524  0.215980  0.208264  0.219811  0.224312   \n",
      "Topic 2   0.200442   0.199592  0.178023  0.194319  0.192473  0.228191   \n",
      "Topic 3   0.222526   0.213935  0.174937  0.200747  0.242839  0.207078   \n",
      "Topic 4   0.171370   0.213245  0.205684  0.231709  0.176272  0.190456   \n",
      "...            ...        ...       ...       ...       ...       ...   \n",
      "Topic 95  0.233000   0.205096  0.169388  0.188896  0.211658  0.214700   \n",
      "Topic 96  0.218060   0.189132  0.219572  0.198808  0.201162  0.206605   \n",
      "Topic 97  0.215450   0.243374  0.235533  0.173177  0.215625  0.198419   \n",
      "Topic 98  0.231246   0.175070  0.214800  0.238391  0.193428  0.215309   \n",
      "Topic 99  0.204429   0.205721  0.233470  0.203016  0.187085  0.203636   \n",
      "\n",
      "            zoomed       zzz  \n",
      "Topic 0   0.208746  0.216677  \n",
      "Topic 1   0.182045  0.220274  \n",
      "Topic 2   0.182620  0.220353  \n",
      "Topic 3   0.194951  0.198850  \n",
      "Topic 4   0.206759  0.198712  \n",
      "...            ...       ...  \n",
      "Topic 95  0.175079  0.235543  \n",
      "Topic 96  0.185269  0.202794  \n",
      "Topic 97  0.206098  0.223767  \n",
      "Topic 98  0.204769  0.191004  \n",
      "Topic 99  0.207097  0.202162  \n",
      "\n",
      "[100 rows x 14897 columns]\n"
     ]
    }
   ],
   "metadata": {}
  },
  {
   "cell_type": "code",
   "execution_count": 12,
   "source": [
    "topic_word_distributions.loc['Topic 98'].sort_values(ascending=False).head(18)"
   ],
   "outputs": [
    {
     "output_type": "execute_result",
     "data": {
      "text/plain": [
       "harry     0.585741\n",
       "tony      0.567446\n",
       "like      0.565784\n",
       "bucky     0.561874\n",
       "pepper    0.406303\n",
       "face      0.405213\n",
       "just      0.395172\n",
       "didn      0.381695\n",
       "make      0.379376\n",
       "eyes      0.374153\n",
       "way       0.370718\n",
       "stark     0.343552\n",
       "got       0.336048\n",
       "looked    0.335964\n",
       "darcy     0.333431\n",
       "think     0.330695\n",
       "really    0.329810\n",
       "time      0.329072\n",
       "Name: Topic 98, dtype: float64"
      ]
     },
     "metadata": {},
     "execution_count": 12
    }
   ],
   "metadata": {}
  },
  {
   "cell_type": "code",
   "execution_count": 13,
   "source": [
    "document_topic_distributions = pd.DataFrame(\n",
    "    document_topic_distributions, columns=topic_names)\n",
    "print(document_topic_distributions)"
   ],
   "outputs": [
    {
     "output_type": "stream",
     "name": "stdout",
     "text": [
      "        Topic 0       Topic 1       Topic 2       Topic 3       Topic 4  \\\n",
      "0  1.978944e-07  1.978944e-07  1.978944e-07  1.978944e-07  1.978944e-07   \n",
      "1  3.432887e-06  3.432887e-06  3.432887e-06  3.432887e-06  3.432887e-06   \n",
      "2  2.286655e-07  2.286655e-07  2.286655e-07  2.286655e-07  2.286655e-07   \n",
      "3  2.571355e-06  2.571355e-06  2.571355e-06  2.571355e-06  2.571355e-06   \n",
      "4  5.344735e-06  5.344735e-06  5.344735e-06  5.344735e-06  5.344735e-06   \n",
      "5  4.338018e-07  4.338018e-07  4.338018e-07  4.338018e-07  4.338018e-07   \n",
      "6  1.567398e-05  1.567398e-05  1.567398e-05  1.567398e-05  1.567398e-05   \n",
      "7  1.917546e-06  1.917546e-06  1.917546e-06  1.917546e-06  1.917546e-06   \n",
      "8  2.494388e-06  2.494388e-06  2.494388e-06  2.494388e-06  2.494388e-06   \n",
      "9  2.626050e-06  2.626050e-06  2.626050e-06  2.626050e-06  2.626050e-06   \n",
      "\n",
      "        Topic 5       Topic 6       Topic 7       Topic 8       Topic 9  ...  \\\n",
      "0  1.978944e-07  1.978944e-07  1.978944e-07  1.978944e-07  1.978944e-07  ...   \n",
      "1  3.432887e-06  3.432887e-06  3.432887e-06  3.432887e-06  3.432887e-06  ...   \n",
      "2  2.286655e-07  2.286655e-07  2.286655e-07  2.286655e-07  2.286655e-07  ...   \n",
      "3  2.571355e-06  2.571355e-06  2.571355e-06  2.571355e-06  2.571355e-06  ...   \n",
      "4  5.344735e-06  5.344735e-06  5.344735e-06  5.344735e-06  5.344735e-06  ...   \n",
      "5  4.338018e-07  4.338018e-07  4.338018e-07  4.338018e-07  4.338018e-07  ...   \n",
      "6  1.567398e-05  1.567398e-05  1.567398e-05  1.567398e-05  1.567398e-05  ...   \n",
      "7  1.917546e-06  1.917546e-06  1.917546e-06  1.917546e-06  1.917546e-06  ...   \n",
      "8  2.494388e-06  2.494388e-06  2.494388e-06  2.494388e-06  2.494388e-06  ...   \n",
      "9  2.626050e-06  2.626050e-06  2.626050e-06  2.626050e-06  2.626050e-06  ...   \n",
      "\n",
      "       Topic 90      Topic 91      Topic 92      Topic 93  Topic 94  \\\n",
      "0  1.978944e-07  1.978944e-07  1.978944e-07  1.978944e-07  0.999980   \n",
      "1  3.432887e-06  3.432887e-06  3.432887e-06  3.432887e-06  0.999660   \n",
      "2  2.286655e-07  2.286655e-07  2.286655e-07  2.286655e-07  0.999977   \n",
      "3  2.571355e-06  2.571355e-06  2.571355e-06  2.571355e-06  0.999745   \n",
      "4  5.344735e-06  5.344735e-06  5.344735e-06  5.344735e-06  0.999471   \n",
      "5  4.338018e-07  4.338018e-07  4.338018e-07  4.338018e-07  0.999957   \n",
      "6  1.567398e-05  1.567398e-05  1.567398e-05  1.567398e-05  0.998448   \n",
      "7  1.917546e-06  1.917546e-06  1.917546e-06  1.917546e-06  0.999810   \n",
      "8  2.494388e-06  2.494388e-06  2.494388e-06  2.494388e-06  0.999753   \n",
      "9  2.626050e-06  2.626050e-06  2.626050e-06  2.626050e-06  0.999740   \n",
      "\n",
      "       Topic 95      Topic 96      Topic 97      Topic 98      Topic 99  \n",
      "0  1.978944e-07  1.978944e-07  1.978944e-07  1.978944e-07  1.978944e-07  \n",
      "1  3.432887e-06  3.432887e-06  3.432887e-06  3.432887e-06  3.432887e-06  \n",
      "2  2.286655e-07  2.286655e-07  2.286655e-07  2.286655e-07  2.286655e-07  \n",
      "3  2.571355e-06  2.571355e-06  2.571355e-06  2.571355e-06  2.571355e-06  \n",
      "4  5.344735e-06  5.344735e-06  5.344735e-06  5.344735e-06  5.344735e-06  \n",
      "5  4.338018e-07  4.338018e-07  4.338018e-07  4.338018e-07  4.338018e-07  \n",
      "6  1.567398e-05  1.567398e-05  1.567398e-05  1.567398e-05  1.567398e-05  \n",
      "7  1.917546e-06  1.917546e-06  1.917546e-06  1.917546e-06  1.917546e-06  \n",
      "8  2.494388e-06  2.494388e-06  2.494388e-06  2.494388e-06  2.494388e-06  \n",
      "9  2.626050e-06  2.626050e-06  2.626050e-06  2.626050e-06  2.626050e-06  \n",
      "\n",
      "[10 rows x 100 columns]\n"
     ]
    }
   ],
   "metadata": {}
  },
  {
   "cell_type": "code",
   "execution_count": 20,
   "source": [
    "words = topic_word_distributions.loc['Topic 6'].sort_values(ascending=False).head(18)\n",
    "words"
   ],
   "outputs": [
    {
     "output_type": "execute_result",
     "data": {
      "text/plain": [
       "bucky     0.594108\n",
       "like      0.522341\n",
       "tony      0.509186\n",
       "just      0.465763\n",
       "harry     0.441406\n",
       "head      0.429017\n",
       "know      0.416696\n",
       "darcy     0.398975\n",
       "hand      0.388576\n",
       "don       0.375994\n",
       "sam       0.370719\n",
       "didn      0.369742\n",
       "time      0.352272\n",
       "people    0.350018\n",
       "steve     0.348417\n",
       "way       0.347979\n",
       "man       0.334534\n",
       "said      0.332871\n",
       "Name: Topic 6, dtype: float64"
      ]
     },
     "metadata": {},
     "execution_count": 20
    }
   ],
   "metadata": {}
  },
  {
   "cell_type": "code",
   "execution_count": 22,
   "source": [
    "from matplotlib import pyplot as plt\n",
    "from wordcloud import WordCloud, STOPWORDS\n",
    "import matplotlib.colors as mcolors\n",
    "\n",
    "print(topic_word_distributions.loc['Topic 2'].head(20))\n",
    "\n",
    "wordcloud = WordCloud().generate_from_frequencies(words)\n",
    "\n",
    "plt.imshow(wordcloud, interpolation='bilinear')\n",
    "plt.axis(\"off\")\n",
    "plt.show()"
   ],
   "outputs": [
    {
     "output_type": "stream",
     "name": "stdout",
     "text": [
      "00      0.211007\n",
      "000     0.205029\n",
      "001     0.185801\n",
      "002     0.214297\n",
      "003     0.210515\n",
      "004     0.187434\n",
      "005     0.204243\n",
      "006     0.203377\n",
      "007     0.210171\n",
      "008     0.197209\n",
      "009     0.224116\n",
      "01      0.212745\n",
      "06      0.202151\n",
      "07      0.195380\n",
      "08      0.196066\n",
      "10      0.228211\n",
      "100     0.202961\n",
      "100k    0.203700\n",
      "101     0.177859\n",
      "106     0.201445\n",
      "Name: Topic 2, dtype: float64\n"
     ]
    },
    {
     "output_type": "display_data",
     "data": {
      "text/plain": [
       "<Figure size 432x288 with 1 Axes>"
      ],
      "image/svg+xml": "<?xml version=\"1.0\" encoding=\"utf-8\" standalone=\"no\"?>\n<!DOCTYPE svg PUBLIC \"-//W3C//DTD SVG 1.1//EN\"\n  \"http://www.w3.org/Graphics/SVG/1.1/DTD/svg11.dtd\">\n<!-- Created with matplotlib (https://matplotlib.org/) -->\n<svg height=\"181.8pt\" version=\"1.1\" viewBox=\"0 0 349.2 181.8\" width=\"349.2pt\" xmlns=\"http://www.w3.org/2000/svg\" xmlns:xlink=\"http://www.w3.org/1999/xlink\">\n <metadata>\n  <rdf:RDF xmlns:cc=\"http://creativecommons.org/ns#\" xmlns:dc=\"http://purl.org/dc/elements/1.1/\" xmlns:rdf=\"http://www.w3.org/1999/02/22-rdf-syntax-ns#\">\n   <cc:Work>\n    <dc:type rdf:resource=\"http://purl.org/dc/dcmitype/StillImage\"/>\n    <dc:date>2021-11-14T17:40:48.770830</dc:date>\n    <dc:format>image/svg+xml</dc:format>\n    <dc:creator>\n     <cc:Agent>\n      <dc:title>Matplotlib v3.3.4, https://matplotlib.org/</dc:title>\n     </cc:Agent>\n    </dc:creator>\n   </cc:Work>\n  </rdf:RDF>\n </metadata>\n <defs>\n  <style type=\"text/css\">*{stroke-linecap:butt;stroke-linejoin:round;}</style>\n </defs>\n <g id=\"figure_1\">\n  <g id=\"patch_1\">\n   <path d=\"M 0 181.8 \nL 349.2 181.8 \nL 349.2 0 \nL 0 0 \nz\n\" style=\"fill:none;\"/>\n  </g>\n  <g id=\"axes_1\">\n   <g clip-path=\"url(#p92d0463694)\">\n    <image height=\"168\" id=\"imagedec5ec3cc5\" transform=\"scale(1 -1)translate(0 -168)\" width=\"335\" x=\"7.2\" xlink:href=\"data:image/png;base64,\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\" y=\"-6.6\"/>\n   </g>\n  </g>\n </g>\n <defs>\n  <clipPath id=\"p92d0463694\">\n   <rect height=\"167.4\" width=\"334.8\" x=\"7.2\" y=\"7.2\"/>\n  </clipPath>\n </defs>\n</svg>\n",
      "image/png": "[encoded data removed]"
     },
     "metadata": {
      "needs_background": "light"
     }
    }
   ],
   "metadata": {}
  },
  {
   "cell_type": "markdown",
   "source": [
    "# Stage Three: Using the sentiment analysis code as a starter, run a sentiment analysis on sample fragments from the documents and compare\n",
    "\n",
    "From the natural language toolkit, I imported the sentiment analyzer and chose a chunk of text to analyze defining it as the message text. I then called the polarity_scores method on sid and passed in the message_text to output a dictionary with negative, neutral, positive, and compound scores for the input text. I then imported the sentiment analyzer for sentence-level analysis. I then initialized VADER and pickle. I then chose a paragraph of text to break up into strings of sentences, and calculated the polatrity score for each sentence. "
   ],
   "metadata": {}
  },
  {
   "cell_type": "code",
   "execution_count": 23,
   "source": [
    "import nltk\n",
    "nltk.download('vader_lexicon')\n",
    "nltk.download('punkt')"
   ],
   "outputs": [
    {
     "output_type": "stream",
     "name": "stderr",
     "text": [
      "[nltk_data] Downloading package vader_lexicon to\n",
      "[nltk_data]     /Users/Rachel/nltk_data...\n",
      "[nltk_data] Downloading package punkt to /Users/Rachel/nltk_data...\n",
      "[nltk_data]   Package punkt is already up-to-date!\n"
     ]
    },
    {
     "output_type": "execute_result",
     "data": {
      "text/plain": [
       "True"
      ]
     },
     "metadata": {},
     "execution_count": 23
    }
   ],
   "metadata": {}
  },
  {
   "cell_type": "code",
   "execution_count": 24,
   "source": [
    "from nltk.sentiment.vader import SentimentIntensityAnalyzer\n",
    "sid = SentimentIntensityAnalyzer()\n",
    "\n",
    "message_text = '''Working so close with Tony Stark had not been what Pepper Potts had envisioned herself doing when she took the job in the accountancy department at Stark Industries, some years ago. She had come to America at 19, enrolled into a well-respected college and majored in accountancy, with a minor in Law. All paid for by her best friend in England. Soon after ending her education, she had seen a chance in starting at the finance department at Stark Industries, and which just graduated youngster wouldn't jump on that chance; not only did it pay well, SI was known for their excellent Personnel policy: dental and hospital insurance for one. Now 5 years after accepting her job in SI, and 3 years after becoming Tone Stark Personal assistant, she felt confident in being both the billionaire's employee but also his friend. She knew from experience just how difficult it can be to live with such fame, her best friend had the same problem, and she had seen what it did to him, at times.'''"
   ],
   "outputs": [],
   "metadata": {}
  },
  {
   "cell_type": "code",
   "execution_count": 25,
   "source": [
    "print(message_text)\n",
    "\n",
    "scores = sid.polarity_scores(message_text)\n",
    "for key in sorted(scores):\n",
    "        print('{0}: {1}, '.format(key, scores[key]), end='')"
   ],
   "outputs": [
    {
     "output_type": "stream",
     "name": "stdout",
     "text": [
      "Working so close with Tony Stark had not been what Pepper Potts had envisioned herself doing when she took the job in the accountancy department at Stark Industries, some years ago. She had come to America at 19, enrolled into a well-respected college and majored in accountancy, with a minor in Law. All paid for by her best friend in England. Soon after ending her education, she had seen a chance in starting at the finance department at Stark Industries, and which just graduated youngster wouldn't jump on that chance; not only did it pay well, SI was known for their excellent Personnel policy: dental and hospital insurance for one. Now 5 years after accepting her job in SI, and 3 years after becoming Tone Stark Personal assistant, she felt confident in being both the billionaire's employee but also his friend. She knew from experience just how difficult it can be to live with such fame, her best friend had the same problem, and she had seen what it did to him, at times.\n",
      "compound: 0.9743, neg: 0.041, neu: 0.787, pos: 0.172, "
     ]
    }
   ],
   "metadata": {}
  },
  {
   "cell_type": "code",
   "execution_count": 26,
   "source": [
    "import nltk.data\n",
    "from nltk.sentiment.vader import SentimentIntensityAnalyzer\n",
    "from nltk import sentiment\n",
    "from nltk import word_tokenize\n",
    "\n",
    "sid = SentimentIntensityAnalyzer()\n",
    "\n",
    "tokenizer = nltk.data.load('tokenizers/punkt/english.pickle')\n",
    "\n",
    "message_text = '''\"Are you and uncle Sam married?\" It's AJ who asks, with his mouth full of food and pointing at Bucky with his fork. Sarah chokes on her water and Bucky's eyes divert to Sam, who looks back with wide eyes. There is a small smile playing on his lips, though, and Bucky feels his face heat up. He turns to the boy, clears his throat and shakes his head. \"Uh, no, we're not.\" AJ looks... disappointed? He is frowning with his whole face, still watching Bucky. \"What do you mean?\" And what the hell is Bucky supposed to answer that? Sam is shaking with laughter next to him and Sarah is still coughing and Bucky wants to disappear under the table away from the prying eyes.'''\n",
    "\n",
    "sentences = tokenizer.tokenize(message_text)\n",
    "\n",
    "for sentence in sentences:\n",
    "        print(sentence)\n",
    "        scores = sid.polarity_scores(sentence)\n",
    "        for key in sorted(scores):\n",
    "                print('{0}: {1}, '.format(key, scores[key]), end='')\n",
    "        print()\n",
    "\n"
   ],
   "outputs": [
    {
     "output_type": "stream",
     "name": "stdout",
     "text": [
      "\"Are you and uncle Sam married?\"\n",
      "compound: 0.0, neg: 0.0, neu: 1.0, pos: 0.0, \n",
      "It's AJ who asks, with his mouth full of food and pointing at Bucky with his fork.\n",
      "compound: 0.0, neg: 0.0, neu: 1.0, pos: 0.0, \n",
      "Sarah chokes on her water and Bucky's eyes divert to Sam, who looks back with wide eyes.\n",
      "compound: -0.4588, neg: 0.158, neu: 0.842, pos: 0.0, \n",
      "There is a small smile playing on his lips, though, and Bucky feels his face heat up.\n",
      "compound: 0.5106, neg: 0.0, neu: 0.765, pos: 0.235, \n",
      "He turns to the boy, clears his throat and shakes his head.\n",
      "compound: 0.0772, neg: 0.0, neu: 0.894, pos: 0.106, \n",
      "\"Uh, no, we're not.\"\n",
      "compound: -0.296, neg: 0.423, neu: 0.577, pos: 0.0, \n",
      "AJ looks... disappointed?\n",
      "compound: -0.4767, neg: 0.608, neu: 0.392, pos: 0.0, \n",
      "He is frowning with his whole face, still watching Bucky.\n",
      "compound: -0.34, neg: 0.211, neu: 0.789, pos: 0.0, \n",
      "\"What do you mean?\"\n",
      "compound: 0.0, neg: 0.0, neu: 1.0, pos: 0.0, \n",
      "And what the hell is Bucky supposed to answer that?\n",
      "compound: -0.6808, neg: 0.338, neu: 0.662, pos: 0.0, \n",
      "Sam is shaking with laughter next to him and Sarah is still coughing and Bucky wants to disappear under the table away from the prying eyes.\n",
      "compound: 0.1531, neg: 0.121, neu: 0.772, pos: 0.107, \n"
     ]
    }
   ],
   "metadata": {}
  },
  {
   "cell_type": "markdown",
   "source": [
    "# Stage Four: Using the Markov chain code as a starter, generate a sentence using one of the documents\n",
    "\n",
    "I imported markovify and used one of the fanfictions, \"Diving Blind\" to generate a random sentence. "
   ],
   "metadata": {}
  },
  {
   "cell_type": "code",
   "execution_count": 27,
   "source": [
    "import markovify\n",
    "import random"
   ],
   "outputs": [],
   "metadata": {}
  },
  {
   "cell_type": "code",
   "execution_count": 30,
   "source": [
    "with open(\"texts/diving blind.txt\",encoding='utf-8') as f:\n",
    "    text = f.read()"
   ],
   "outputs": [],
   "metadata": {}
  },
  {
   "cell_type": "code",
   "execution_count": 31,
   "source": [
    "text_model = markovify.Text(text)"
   ],
   "outputs": [],
   "metadata": {}
  },
  {
   "cell_type": "code",
   "execution_count": 32,
   "source": [
    "print( text_model.make_sentence() )"
   ],
   "outputs": [
    {
     "output_type": "stream",
     "name": "stdout",
     "text": [
      "The colorful intro banner fades away to be careful, now, in all things.\n"
     ]
    }
   ],
   "metadata": {}
  },
  {
   "cell_type": "markdown",
   "source": [
    "# Stage Five: Using the Markov chain code as a starter, generate a longer text fragment using all of the documents\n",
    "\n",
    "I read in all 10 documents from my folder, and generated a sentence using all of them. I then created a longer text fragment, with paragraph of 3 to 9 sentences up to 500 words. "
   ],
   "metadata": {}
  },
  {
   "cell_type": "code",
   "execution_count": 34,
   "source": [
    "import os\n",
    "path = 'texts/'\n",
    "with os.scandir(path) as entries:\n",
    "    for entry in entries:\n",
    "        print(entry.name)\n",
    "        f = open(f'{path}/{entry.name}',encoding='utf-8')\n",
    "        text += f.read()"
   ],
   "outputs": [
    {
     "output_type": "stream",
     "name": "stdout",
     "text": [
      "Vacant Mirrors.txt\n",
      "diving blind.txt\n",
      "The Gottman Method for Dealing with Conflict.txt\n",
      "My Two Front Teef.txt\n",
      "just won't do right.txt\n",
      "Marriage Counseling for the Inept and Oblivious.txt\n",
      "Skip, Reverse.txt\n",
      "double dare.txt\n",
      "come with me to somewhere new.txt\n",
      "Between Technology, Magic and Death.txt\n"
     ]
    }
   ],
   "metadata": {}
  },
  {
   "cell_type": "code",
   "execution_count": 35,
   "source": [
    "text_model = markovify.Text(text)\n",
    "print( text_model.make_sentence() )"
   ],
   "outputs": [
    {
     "output_type": "stream",
     "name": "stdout",
     "text": [
      "She was my baby since last Christmas; let's see if Happy's in the comments section, no matter how many people around them both.\n"
     ]
    }
   ],
   "metadata": {}
  },
  {
   "cell_type": "code",
   "execution_count": 36,
   "source": [
    "novel = ''\n",
    "while (len( novel.split(\" \")) < 500):\n",
    "  for i in range(random.randrange(3,9)):\n",
    "    novel += text_model.make_sentence() + \" \"\n",
    "  novel += \"\\n\\n\"\n",
    "\n",
    "print(novel)"
   ],
   "outputs": [
    {
     "output_type": "stream",
     "name": "stdout",
     "text": [
      "A long time ago now, since he and Steve was in his throat. And he might have to tell them that could be finished in time would set the parameters by which I know they could see police boats closing in on it were in the side of his confusion to Sam that Bucky doesn't quite understand, but Sam is certainly making it so many people already, he didn't arrive late to his office and coming back to the spare room. He immediately felt bad when you'd tried to come up with what had caused the explosion to occur, taking out his own products, as well as Sirius would have to wait for the dry cereal you've been nursing for months looks happy. All three of them wondering however, how it would guarantee similar results. Miss Nat said a lot like you always do, with respectful awe. Out in the multiverse. Sam's sudden snort of laughter is strong enough to leave room for realization. \n",
      "\n",
      "He's smiling in that oil-stained white t-shirt, the way you sigh and turn to Harry, the Brit explained what had happened in the crossfire. It reminds you to hand it over. Bucky gets to Sam's belly, tongue darting across his shoulders, your back arches and Bucky had just nodded, making copies of everything that wasn't what triggered both of them hummed as he wrapped his fingers down Bucky's side just enough to send him into a comfortable silence. They get interrupted with some help from Harry. Tony swept Darcy up in that way that he smeared on everything. He grunted in annoyance, but checked his watch to see where they came out of his careful tread, and the inclusive meals and moments flipped by, all featuring Tony surrounded by comfortable seating for no good reason, he'd let Sam talk him to house elves into the eye. He's going to get everything he had him sighing, one Natalie Rushman, who he was, back-to-back with Barnes on a screen to see how everything went. \n",
      "\n",
      "Bucky smiled up at that. Pepper's been up all night -- after hours of sleep, but he had two legs again. Sam estimated about fifty yards stood between them so they could show him just enough to disintegrate people. As they turned to the gathering of young and would be more than a fair trial, and was starting to weigh something in his hands. Biting his lip, basking under his chin and leaned against the table are put together, and the airman to let them know they were allowed to talk to your appointment twenty minutes early from now on, you both hold is gone in a meeting with world leaders, the UN and the cement floor hurtles towards you. \n",
      "\n",
      "Propped up on the tiled floor of SI and MI could get breakfast, lunch and bided his time. He drums his knuckles against the thrum in his hand onto the hood. Maybe it's a panicked sound that's born mostly out of his teeth as he could see appear behind Thanos, tapping his fingers through his mental health journey. Make time to time just to be confirmed weaponry. \n",
      "\n",
      "\n"
     ]
    }
   ],
   "metadata": {}
  }
 ],
 "metadata": {
  "orig_nbformat": 4,
  "language_info": {
   "name": "python",
   "version": "3.8.8",
   "mimetype": "text/x-python",
   "codemirror_mode": {
    "name": "ipython",
    "version": 3
   },
   "pygments_lexer": "ipython3",
   "nbconvert_exporter": "python",
   "file_extension": ".py"
  },
  "kernelspec": {
   "name": "python3",
   "display_name": "Python 3.8.8 64-bit ('base': conda)"
  },
  "interpreter": {
   "hash": "81406bfb4a0df296520439dbeeb6cb234f05909e99c5846f7ab3626eb610afcd"
  }
 },
 "nbformat": 4,
 "nbformat_minor": 2
}