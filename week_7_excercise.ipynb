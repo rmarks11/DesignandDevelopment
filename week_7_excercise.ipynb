{
 "cells": [
  {
   "cell_type": "markdown",
   "metadata": {},
   "source": [
    "# Stage One: Import 3 Documents to Compare \n",
    "\n",
    "I imported a corpus of text files from 3 ebooks to analyze, specifically 3 of Shakespeare's works, the Sonnets, *Romeo and Juliet*, and *Hamlet*. I also imported a tokenization library using the Natural Language toolkit. "
   ]
  },
  {
   "cell_type": "code",
   "execution_count": 17,
   "metadata": {},
   "outputs": [
    {
     "name": "stdout",
     "output_type": "stream",
     "text": [
      "﻿The Project Gutenberg eBook of Romeo and Juliet, by William Shakespeare\n",
      "\n",
      "This eBook is for the use \n"
     ]
    }
   ],
   "source": [
    "import nltk\n",
    "import nltk.tokenize\n",
    "\n",
    "nltk.download('punkt', quiet=True)\n",
    "\n",
    "corpus = [\"shakespeares_sonnets.txt\",\"romeo_juliet.txt\",\"hamlet.txt\"]\n",
    "titles = [\"Shakespeare's Sonnets\", \"Romeo and Juliet\", \"Hamlet\"]\n",
    "documents = []\n",
    "for url in corpus:\n",
    "    f = open(url, encoding='utf-8')\n",
    "    text = f.read()\n",
    "    documents.append(text)\n",
    "print(documents[1][0:100])"
   ]
  },
  {
   "cell_type": "markdown",
   "metadata": {},
   "source": [
    "# Stage Two: Preprocess the Text and Create a Tokenized Corpus\n",
    "\n",
    "I then preprocessed the text and create a tokenized corpus from the text of the imported documents. I did this by splitting up the words and making them all lower case, then removing punctuation from the text so that I could create a list of words from the text files. I then printed a random word from the document to test my code. "
   ]
  },
  {
   "cell_type": "code",
   "execution_count": 18,
   "metadata": {},
   "outputs": [],
   "source": [
    "import re\n",
    "\n",
    "\n",
    "PUNCT_RE = re.compile(r'[^\\w\\s]+$')\n",
    "\n",
    "\n",
    "def is_punct(string):\n",
    "    \"\"\"Check if STRING is a punctuation marker or a sequence of\n",
    "       punctuation markers.\n",
    "    \"\"\"\n",
    "    return PUNCT_RE.match(string) is not None"
   ]
  },
  {
   "cell_type": "code",
   "execution_count": 19,
   "metadata": {},
   "outputs": [],
   "source": [
    "def preprocess_text(text, language, lowercase=True):\n",
    "    \"\"\"Preprocess a text.\n",
    "\n",
    "    Perform a text preprocessing procedure, which transforms a string\n",
    "    object into a list of word tokens without punctuation markers.\n",
    "\n",
    "    \"\"\"\n",
    "    if lowercase:\n",
    "        text = text.lower()\n",
    "    tokens = nltk.tokenize.word_tokenize(text, language=language)\n",
    "    tokens = [token for token in tokens if not is_punct(token)]\n",
    "    return tokens"
   ]
  },
  {
   "cell_type": "code",
   "execution_count": 20,
   "metadata": {},
   "outputs": [
    {
     "name": "stdout",
     "output_type": "stream",
     "text": [
      "almost\n"
     ]
    }
   ],
   "source": [
    "tokenized = []\n",
    "for text in documents:\n",
    "    tokenized.append(preprocess_text(text, \"english\"))\n",
    "\n",
    "print(tokenized[0][25]) "
   ]
  },
  {
   "cell_type": "markdown",
   "metadata": {},
   "source": [
    "# Stage Three: Creat a Document Term Matrix\n",
    "\n",
    "I created a document term matrix to enable comparative textual analysis across my three documents. I extracted all of the text and created a counted collection of vocabulary. I transformed my list of vocabulary into a document-term matrix which would provide counts for every word in my vocab list. I finally used NumPy to get the counts of the word \"man\" from all 3 documents, and the counts of the word \"woman\" from all three documents, so I could analyze the use of these gendered terms in Shakespeare's work. "
   ]
  },
  {
   "cell_type": "code",
   "execution_count": 21,
   "metadata": {},
   "outputs": [
    {
     "name": "stdout",
     "output_type": "stream",
     "text": [
      "[\"'as-is\", \"'d\", \"'fair\", \"'gainst\", \"'ll\", \"'s\", \"'t\", \"'this\", \"'truth\", \"'twixt\", \"'will\", '1', '1.', '1.a', '1.b', '1.c', '1.d', '1.e', '1.e.1', '1.e.2', '1.e.3', '1.e.4', '1.e.5', '1.e.6', '1.e.7', '1.e.8', '1.e.9', '1.f', '1.f.1', '1.f.2', '1.f.3', '1.f.4', '1.f.5', '1.f.6', '1500', '1998', '2.', '20', '2001', '2021', '3', '3.', '30', '4', '4.', '5,000', '5.', '50', '501', '596-1887.', '60', '64-6221541.', '801', '809', '84116', '90', '_', '_a', '_advances._', '_aside._', '_behind._', '_beneath._', '_breaking', '_dies._', '_draws._', '_exeunt', '_exeunt._', '_exit', '_exit._', '_falls', '_ghost', '_gives', '_he', '_knocking._', '_laertes', '_laying', '_leaps', '_march', '_reads._', '_retires._', '_retiring', '_sings._', '_stabs', '_the', '_they', '_throws', '_to', '_within._', 'a', 'abate', 'abhor', 'abhorred', 'abide', 'able', 'aboard', 'about', 'above', 'abram', 'abroad', 'absence']\n"
     ]
    }
   ],
   "source": [
    "def extract_vocabulary(tokenized_corpus, min_count=1, max_count=float('inf')):\n",
    "    \"\"\"Extract a vocabulary from a tokenized corpus.\n",
    "\n",
    "    Arguments:\n",
    "        tokenized_corpus (list): a tokenized corpus represented, list\n",
    "            of lists of strings.\n",
    "        min_count (int, optional): the minimum occurrence count of a\n",
    "            vocabulary item in the corpus.\n",
    "        max_count (int, optional): the maximum occurrence count of a\n",
    "            vocabulary item in the corpus. Defaults to inf.\n",
    "\n",
    "    Returns:\n",
    "        list: An alphabetically ordered list of unique words in the\n",
    "            corpus, of which the frequencies adhere to the specified\n",
    "            minimum and maximum count.\n",
    "\n",
    "    Examples:\n",
    "        >>> corpus = [['the', 'man', 'love', 'man', 'the'],\n",
    "                      ['the', 'love', 'book', 'wise', 'drama'],\n",
    "                      ['a', 'story', 'book', 'drama']]\n",
    "        >>> extract_vocabulary(corpus, min_count=2)\n",
    "        ['book', 'drama', 'love', 'man', 'the']\n",
    "\n",
    "    \"\"\"\n",
    "    vocabulary = collections.Counter()\n",
    "    for document in tokenized_corpus:\n",
    "        vocabulary.update(document)\n",
    "    vocabulary = {word for word, count in vocabulary.items()\n",
    "                  if count >= min_count and count <= max_count}\n",
    "    return sorted(vocabulary)\n",
    "import collections\n",
    "vocabulary = extract_vocabulary(tokenized, min_count=2)\n",
    "print(vocabulary[0:100])"
   ]
  },
  {
   "cell_type": "code",
   "execution_count": 22,
   "metadata": {},
   "outputs": [
    {
     "name": "stdout",
     "output_type": "stream",
     "text": [
      "Woman: [6 3 8]\n",
      "Man: [ 7 71 57]\n"
     ]
    }
   ],
   "source": [
    "def corpus2dtm(tokenized_corpus, vocabulary):\n",
    "    \"\"\"Transform a tokenized corpus into a document-term matrix.\n",
    "\n",
    "    Arguments:\n",
    "        tokenized_corpus (list): a tokenized corpus as a list of\n",
    "        lists of strings. vocabulary (list): An list of unique words.\n",
    "\n",
    "    Returns:\n",
    "        list: A list of lists representing the frequency of each term\n",
    "              in `vocabulary` for each document in the corpus.\n",
    "\n",
    "    Examples:\n",
    "        >>> tokenized_corpus = [['the', 'man', 'man', 'smart'],\n",
    "                                ['a', 'the', 'man' 'love'],\n",
    "                                ['love', 'book', 'journey']]\n",
    "        >>> vocab = ['book', 'journey', 'man', 'love']\n",
    "        >>> corpus2dtm(tokenized_corpus, vocabulary)\n",
    "        [[0, 0, 2, 0], [0, 0, 1, 1], [1, 1, 0, 1]]\n",
    "\n",
    "    \"\"\"\n",
    "    document_term_matrix = []\n",
    "    for document in tokenized_corpus:\n",
    "        document_counts = collections.Counter(document)\n",
    "        row = [document_counts[word] for word in vocabulary]\n",
    "        document_term_matrix.append(row)\n",
    "    return document_term_matrix\n",
    "\n",
    "import numpy as np\n",
    "\n",
    "document_term_matrix = np.array(corpus2dtm(tokenized, vocabulary))\n",
    "woman_id = vocabulary.index('woman')\n",
    "man_id = vocabulary.index('man')\n",
    "\n",
    "woman_counts = document_term_matrix[:, woman_id]\n",
    "man_counts = document_term_matrix[:, man_id]\n",
    "print(\"Woman: \" + str(woman_counts))\n",
    "print(\"Man: \" + str(man_counts))"
   ]
  },
  {
   "cell_type": "markdown",
   "metadata": {},
   "source": [
    "# Stage Four: Chart a Comparison between Documents \n",
    "\n",
    "I imported a plotting library in order to chart a word frequency comparison between the documents and map it into a bar graph. I chose to map the comparisons between the use of man and woman in each text using the word frequency from above. "
   ]
  },
  {
   "cell_type": "code",
   "execution_count": 23,
   "metadata": {},
   "outputs": [
    {
     "data": {
      "image/png": "[encoded data removed]",
      "text/plain": "<Figure size 432x288 with 1 Axes>"
     },
     "metadata": {
      "needs_background": "light"
     },
     "output_type": "display_data"
    }
   ],
   "source": [
    "import matplotlib.pyplot as plt\n",
    "\n",
    "x = np.arange(len(titles))\n",
    "width = 0.3\n",
    "\n",
    "fig, ax = plt.subplots()\n",
    "rects1 = ax.bar(x - width/2, man_counts, width, label='Man')\n",
    "rects2 = ax.bar(x + width/2, woman_counts, width, label='Woman')\n",
    "\n",
    "ax.set_ylabel('Word Count')\n",
    "ax.set_title('Gender Binary Word Frequency')\n",
    "ax.set_xticks(x)\n",
    "ax.set_xticklabels(titles)\n",
    "ax.legend()\n",
    "\n",
    "fig.tight_layout()\n",
    "\n",
    "plt.show()"
   ]
  },
  {
   "cell_type": "markdown",
   "metadata": {},
   "source": [
    "# Stage Five: Calculate the Euclidean Distance \n",
    "\n",
    "Finally, I calculated the Euclidean distance between the documents, using my two key words of \"man\" and \"woman\" as the point of comparison. I am comparing the documents and their similarities or differences in how often they use the gendered terms identified. I found that *Hamlet* and *Romeo and Juliet* are similar in that they both use the word \"man\" often but the word \"woman\" much less. The Sonnets are different from both texts in that they use \"man\" and \"woman\" with similar frequency, and less overall. "
   ]
  },
  {
   "cell_type": "code",
   "execution_count": 24,
   "metadata": {},
   "outputs": [],
   "source": [
    "sonnets = np.array([woman_counts[0], man_counts[0]])\n",
    "romeo = np.array([woman_counts[1], man_counts[1]])\n",
    "hamlet = np.array([woman_counts[2], man_counts[2]])"
   ]
  },
  {
   "cell_type": "code",
   "execution_count": 25,
   "metadata": {},
   "outputs": [
    {
     "name": "stdout",
     "output_type": "stream",
     "text": [
      "Sonnets - Romeo: 64.07\n",
      "Sonnets - Hamlet: 50.04\n",
      "Romeo - Hamlet: 14.87\n"
     ]
    }
   ],
   "source": [
    "def euclidean_distance(a, b):\n",
    "    \"\"\"Compute the Euclidean distance between two vectors.\n",
    "\n",
    "    Note: ``numpy.linalg.norm(a - b)`` performs the\n",
    "    same calculation using a slightly faster method.\n",
    "\n",
    "    Arguments:\n",
    "        a (numpy.ndarray): a vector of floats or ints.\n",
    "        b (numpy.ndarray): a vector of floats or ints.\n",
    "\n",
    "    Returns:\n",
    "        float: The euclidean distance between vector a and b.\n",
    "\n",
    "    Examples:\n",
    "        >>> import numpy as np\n",
    "        >>> a = np.array([1, 4, 2, 8])\n",
    "        >>> b = np.array([2, 1, 4, 7])\n",
    "        >>> round(euclidean_distance(a, b), 2)\n",
    "        3.87\n",
    "\n",
    "    \"\"\"\n",
    "    return np.sqrt(np.sum((a - b) ** 2))\n",
    "\n",
    "sonnetsromeo = euclidean_distance(sonnets, romeo)\n",
    "print(f'Sonnets - Romeo: {sonnetsromeo:.2f}')\n",
    "\n",
    "sonnetshamlet = euclidean_distance(sonnets, hamlet)\n",
    "print(f'Sonnets - Hamlet: {sonnetshamlet:.2f}')\n",
    "\n",
    "romeohamlet = euclidean_distance(romeo, hamlet)\n",
    "print(f'Romeo - Hamlet: {romeohamlet:.2f}')"
   ]
  }
 ],
 "metadata": {
  "kernelspec": {
   "display_name": "Python 3.8.8 64-bit ('base': conda)",
   "name": "python388jvsc74a57bd081406bfb4a0df296520439dbeeb6cb234f05909e99c5846f7ab3626eb610afcd"
  },
  "language_info": {
   "codemirror_mode": {
    "name": "ipython",
    "version": 3
   },
   "file_extension": ".py",
   "mimetype": "text/x-python",
   "name": "python",
   "nbconvert_exporter": "python",
   "pygments_lexer": "ipython3",
   "version": "3.8.8"
  },
  "orig_nbformat": 2
 },
 "nbformat": 4,
 "nbformat_minor": 2
}